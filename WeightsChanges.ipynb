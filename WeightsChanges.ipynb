{
 "cells": [
  {
   "cell_type": "markdown",
   "id": "suitable-major",
   "metadata": {},
   "source": [
    "# Weights Changes"
   ]
  },
  {
   "cell_type": "code",
   "execution_count": null,
   "id": "liberal-modem",
   "metadata": {},
   "outputs": [],
   "source": [
    "import numpy as np\n",
    "import pandas as pd\n",
    "import plotly.express as px\n",
    "import plotly.graph_objects as go\n",
    "from plotly.subplots import make_subplots"
   ]
  },
  {
   "cell_type": "code",
   "execution_count": null,
   "id": "differential-australia",
   "metadata": {},
   "outputs": [],
   "source": [
    "#linearly increasing weights from 0.1 to 0.5\n",
    "dai_weight = np.linspace(0.1, 0.9, num=50)\n",
    "weth_weight = np.linspace(0.9, 0.1, num=50)\n",
    "\n",
    "w_t = pd.DataFrame([dai_weight, weth_weight], index=[\"dai_weight\", \"weth_weight\"]).transpose(copy=True) "
   ]
  },
  {
   "cell_type": "markdown",
   "id": "funny-exclusion",
   "metadata": {},
   "source": [
    "### A: Pool with B(DAI) > B(WETH)\n",
    "\n",
    "If the weight of the token with the **larger balance** increases, the Invariant V **increases**."
   ]
  },
  {
   "cell_type": "code",
   "execution_count": null,
   "id": "international-knitting",
   "metadata": {},
   "outputs": [],
   "source": [
    "w_t['dai_balance'] = 1000\n",
    "w_t['weth_balance'] = 100\n",
    "w_t['invariant'] = (w_t.dai_balance**w_t.dai_weight)*(w_t.weth_balance**weth_weight)\n",
    "\n",
    "# Plot\n",
    "fig = make_subplots(specs=[[{'secondary_y': True}]])\n",
    "fig.add_trace(go.Scatter(x=w_t.index, y=w_t.invariant, line=dict(color='#f36315'), name=\"Invariant\"), secondary_y=False)\n",
    "fig.add_trace(go.Scatter(x=w_t.index,y=w_t.dai_weight, line=dict(color='#2C1839'), name=\"DAI weight\"), secondary_y=True)\n",
    "fig.update_layout(title_text='<b>Weight vs. Invariant</b>')\n",
    "fig.update_xaxes(title_text='timestep')\n",
    "fig.update_yaxes(title_text='<b>Invariant V</b>', secondary_y=False)\n",
    "fig.update_yaxes(title_text='<b>Weight</b>', secondary_y=True)\n",
    "fig.show()  "
   ]
  },
  {
   "cell_type": "markdown",
   "id": "urban-matthew",
   "metadata": {},
   "source": [
    "### A: Pool with B(DAI) < B(WETH)\n",
    "\n",
    "If the weight of the token with the **smaller balance** increases, the Invariant V **declines**.\n"
   ]
  },
  {
   "cell_type": "code",
   "execution_count": null,
   "id": "fiscal-scoop",
   "metadata": {},
   "outputs": [],
   "source": [
    "w_t['dai_balance'] = 100\n",
    "w_t['weth_balance'] = 10000\n",
    "w_t['invariant'] = (w_t.dai_balance**w_t.dai_weight)*(w_t.weth_balance**weth_weight)\n",
    "\n",
    "# Plot\n",
    "fig = make_subplots(specs=[[{'secondary_y': True}]])\n",
    "fig.add_trace(go.Scatter(x=w_t.index, y=w_t.invariant, line=dict(color='#f36315'), name=\"Invariant\"), secondary_y=False)\n",
    "fig.add_trace(go.Scatter(x=w_t.index,y=w_t.dai_weight, line=dict(color='#2C1839'), name=\"DAI weight\"), secondary_y=True)\n",
    "fig.update_layout(title_text='<b>Weight vs. Invariant</b>')\n",
    "fig.update_xaxes(title_text='timestep')\n",
    "fig.update_yaxes(title_text='<b>Invariant V</b>', secondary_y=False)\n",
    "fig.update_yaxes(title_text='<b>Weight</b>', secondary_y=True)\n",
    "fig.show()  "
   ]
  },
  {
   "cell_type": "markdown",
   "id": "initial-insulin",
   "metadata": {},
   "source": [
    "### C: Pool with equal balance DAI/WETH\n",
    "\n",
    "In case the balances of tokens in the pool are equal, a weight change doesn't change Invariant V."
   ]
  },
  {
   "cell_type": "code",
   "execution_count": null,
   "id": "laden-batch",
   "metadata": {},
   "outputs": [],
   "source": [
    "w_t['dai_balance'] = 500\n",
    "w_t['weth_balance'] = 500\n",
    "w_t['invariant'] = (w_t.dai_balance**w_t.dai_weight)*(w_t.weth_balance**weth_weight)\n",
    "\n",
    "\n",
    "# Plot\n",
    "fig = make_subplots(specs=[[{'secondary_y': True}]])\n",
    "fig.add_trace(go.Scatter(x=w_t.index, y=w_t.invariant, line=dict(color='#f36315'), name=\"Invariant\"), secondary_y=False)\n",
    "fig.add_trace(go.Scatter(x=w_t.index,y=w_t.dai_weight, line=dict(color='#2C1839'), name=\"equal_balance_t weight\"), secondary_y=True)\n",
    "fig.update_layout(title_text='<b>Weight vs. Invariant</b>')\n",
    "fig.update_xaxes(title_text='timestep')\n",
    "fig.update_yaxes(range=[200,510], title_text='<b>Invariant V</b>', secondary_y=False)\n",
    "fig.update_yaxes(title_text='<b>Weight</b>', secondary_y=True)\n",
    "fig.show()  "
   ]
  },
  {
   "cell_type": "code",
   "execution_count": null,
   "id": "armed-kitchen",
   "metadata": {},
   "outputs": [],
   "source": [
    "#Zoom in Invariant\n",
    "#Root cause for Invariant flickering?\n",
    "\n",
    "w_t['dai_balance'] = 500\n",
    "w_t['weth_balance'] = 500\n",
    "w_t['invariant'] = (w_t.dai_balance**w_t.dai_weight)*(w_t.weth_balance**weth_weight)\n",
    "\n",
    "\n",
    "# Plot\n",
    "fig = make_subplots(specs=[[{'secondary_y': True}]])\n",
    "fig.add_trace(go.Scatter(x=w_t.index, y=w_t.invariant, line=dict(color='#f36315'), name=\"Invariant\"), secondary_y=False)\n",
    "fig.add_trace(go.Scatter(x=w_t.index,y=w_t.dai_weight, line=dict(color='#2C1839'), name=\"equal_balance_t weight\"), secondary_y=True)\n",
    "fig.update_layout(title_text='<b>Weight vs. Invariant</b>')\n",
    "fig.update_xaxes(title_text='timestep')\n",
    "fig.update_yaxes(title_text='<b>Invariant V</b>', secondary_y=False)\n",
    "fig.update_yaxes(title_text='<b>Weight</b>', secondary_y=True)\n",
    "fig.show()  "
   ]
  }
 ],
 "metadata": {
  "kernelspec": {
   "display_name": "Python 3",
   "language": "python",
   "name": "python3"
  },
  "language_info": {
   "codemirror_mode": {
    "name": "ipython",
    "version": 3
   },
   "file_extension": ".py",
   "mimetype": "text/x-python",
   "name": "python",
   "nbconvert_exporter": "python",
   "pygments_lexer": "ipython3",
   "version": "3.9.1"
  }
 },
 "nbformat": 4,
 "nbformat_minor": 5
}
