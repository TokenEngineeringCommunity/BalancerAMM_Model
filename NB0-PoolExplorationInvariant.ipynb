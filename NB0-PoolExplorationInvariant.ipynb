{
 "cells": [
  {
   "cell_type": "markdown",
   "metadata": {},
   "source": [
    "# NB #0:  Pool Exploration / Invariant \n",
    "\n",
    "This notebook provides a framework to plot a standardized pool and various transactions\n",
    "\n",
    "For more information check out the [Balancer Simulations documentation](https://token-engineering-balancer.gitbook.io/balancer-simulations/)."
   ]
  },
  {
   "cell_type": "markdown",
   "metadata": {},
   "source": [
    "### C1.1 A variable Invariant (50/50 pool)"
   ]
  },
  {
   "cell_type": "code",
   "execution_count": null,
   "metadata": {},
   "outputs": [],
   "source": [
    "import numpy as np\n",
    "import pandas as pd\n",
    "import plotly.express as px\n",
    "import plotly.graph_objects as go\n",
    "from plotly.subplots import make_subplots"
   ]
  },
  {
   "cell_type": "code",
   "execution_count": null,
   "metadata": {},
   "outputs": [],
   "source": [
    "#set up genesis state\n",
    "#define initial target spot price \n",
    "x_bal = 1000 # initial balance\n",
    "y_bal = 1000 # initial balance\n",
    "x_weight = 0.5 #define weight\n",
    "y_weight = 0.5 #define weight\n",
    "s_f = 0.5 #swap fee\n",
    "inv = (x_bal**x_weight)*(y_bal**y_weight) #calculate invariant\n",
    "x_vals = np.linspace(0, x_bal*4, num=50) # take x_bal and create 50 values array, nice curve only works with values larger than initial target spot price\n",
    "#create dataframe with based on x_vals\n",
    "i_t = pd.DataFrame(x_vals, columns=['token_X'])\n",
    "i_t['invariant'] = inv #braucht man in plot nicht, nur zur kontrolle\n",
    "\n",
    "#create values for plot, add Y_balances according to current invariant\n",
    "i_t['token_Y'] = (i_t.invariant/(i_t.token_X**x_weight))**(1/y_weight)# calculate corresponding y_vals according to invariant\n",
    "i_t['swap'] = 0\n",
    "plot = i_t.loc[1:49,:] #leave out inf result \n",
    "\n",
    "plot.head()"
   ]
  },
  {
   "cell_type": "code",
   "execution_count": null,
   "metadata": {},
   "outputs": [],
   "source": [
    "#new curve with swaps\n",
    "#TODO alle formeln nochmal prüfen, alle variablen\n",
    "#TODO array erstellen und loop installieren\n",
    "#TODO refactor with all transaction types, concat only at the very last step\n",
    "\n",
    "\n",
    "x_swaps = [200, 200, 200, 200, 200]  #define an array of swaps for plots\n",
    "swap_no = 1\n",
    "iswap_t = pd.DataFrame()\n",
    "for i in x_swaps:\n",
    "        y_out = y_bal*(1-(x_bal/(x_bal +(i*(1-s_f))))**(x_weight/y_weight))\n",
    "        x_bal = x_bal + i #update balance token x\n",
    "        y_bal = y_bal - y_out #update balance token y\n",
    "        inv = (x_bal**x_weight)*(y_bal**y_weight) #update inv\n",
    "        x_vals = np.linspace(0, x_bal*4, num=100)#create new values for curve, *4 required to maintain enough x_bal for the plot, otherwise x-axis values to small, curve too short\n",
    "        iswap_t['token_X'] = x_vals\n",
    "        iswap_t['invariant'] = inv\n",
    "        iswap_t['token_Y'] = (iswap_t.invariant/(iswap_t.token_X**x_weight))**(1/y_weight)# calculate corresponding y_vals according to invariant\n",
    "        iswap_t['swap'] = swap_no\n",
    "        plot = plot.append(iswap_t, ignore_index=True) \n",
    "        swap_no += 1"
   ]
  },
  {
   "cell_type": "code",
   "execution_count": null,
   "metadata": {},
   "outputs": [],
   "source": [
    "#plot.loc[45:255,:]\n",
    "plot"
   ]
  },
  {
   "cell_type": "code",
   "execution_count": null,
   "metadata": {},
   "outputs": [],
   "source": [
    "#TODO add annotations with Spotprice in every round\n",
    "\n",
    "#plot curves with all \n",
    "fig = px.line(plot, x=\"token_X\", y=\"token_Y\", color='swap', color_discrete_sequence=px.colors.sequential.Turbo)\n",
    "fig.update_xaxes(range=[0, 3000])\n",
    "fig.update_yaxes(range=[0, 3000])\n",
    "fig.update_layout(height=500, width=560, title_text='<b>A variable Invariant</b>')\n",
    "#fig.add_annotation(x=1000, y=1000, text=\"Spot Price 0\")\n",
    "#fig.add_annotation(x=1000-50, y=900, text=\"Spot Price 1\")\n",
    "fig.show()"
   ]
  }
 ],
 "metadata": {
  "kernelspec": {
   "display_name": "Python 3",
   "language": "python",
   "name": "python3"
  },
  "language_info": {
   "codemirror_mode": {
    "name": "ipython",
    "version": 3
   },
   "file_extension": ".py",
   "mimetype": "text/x-python",
   "name": "python",
   "nbconvert_exporter": "python",
   "pygments_lexer": "ipython3",
   "version": "3.9.1"
  }
 },
 "nbformat": 4,
 "nbformat_minor": 4
}
