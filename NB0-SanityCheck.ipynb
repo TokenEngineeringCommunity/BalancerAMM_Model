{
 "cells": [
  {
   "cell_type": "markdown",
   "metadata": {},
   "source": [
    "# NB #0:  Sanity Check\n",
    "\n",
    "The purpose of this notebook is to compare the accuracy of our model and its various ways of data gathering against actual pool history\n",
    "\n",
    "This simulation will compare:\n",
    "\n",
    "1- **Contract call:** getting input data from user contract call and exact smart contract method( parsed from decoded LOG_CALL anonymous events that balancer uses to log all activity) and apply our model to get outputs\n",
    "\n",
    "2- **Simplified:** getting input data from pool events (LOG_JOIN, LOG_EXIT, LOG_SWAP) parsed from BigQuery and applying our model to get outputs. This method should have more deviations because it's assuming the flavour of BPool join, swap, exit, joinswap and exitswap and using after the fact output data as input.\n",
    "\n",
    "3- **Plot output:** just adding and removing balances as seen in pool events"
   ]
  },
  {
   "cell_type": "markdown",
   "metadata": {},
   "source": [
    "# Table of content\n",
    "(XX - to be added)"
   ]
  },
  {
   "cell_type": "markdown",
   "metadata": {},
   "source": [
    "# A. System Context"
   ]
  },
  {
   "cell_type": "markdown",
   "metadata": {},
   "source": [
    "### System Specification\n",
    "- Differential Syntax Diagram (XX update!!)\n",
    "- Link to Mathematical Specification (XX link Documentation/.py for reference)\n",
    "- Link to Software Archtitecture (XX link!)"
   ]
  },
  {
   "cell_type": "markdown",
   "metadata": {},
   "source": [
    "### Naming Convention\n",
    "\n",
    "All code provided for this package follows a specific naming convention, as documented here (link)\n"
   ]
  },
  {
   "cell_type": "markdown",
   "metadata": {},
   "source": [
    "# B. cadCAD Notebook"
   ]
  },
  {
   "cell_type": "markdown",
   "metadata": {},
   "source": [
    "### B1.1 Dependencies"
   ]
  },
  {
   "cell_type": "code",
   "execution_count": null,
   "metadata": {},
   "outputs": [],
   "source": [
    "import pandas as pd \n",
    "from cadCAD.configuration.utils import config_sim"
   ]
  },
  {
   "cell_type": "markdown",
   "metadata": {},
   "source": [
    "# C. Run Simulations "
   ]
  },
  {
   "cell_type": "markdown",
   "metadata": {},
   "source": [
    "### C1.1 Initialize Pool\n"
   ]
  },
  {
   "cell_type": "markdown",
   "metadata": {},
   "source": [
    "(XX how to data parse in readme.file in data folder)  \n",
    "(XX state variables, make list)  \n",
    "(XX Parameters, make list)  \n",
    "(XX weigth, check, why 0.1/0.4, translate to decimal?)  \n",
    "(XX print the pool address?)"
   ]
  },
  {
   "cell_type": "code",
   "execution_count": null,
   "metadata": {},
   "outputs": [],
   "source": [
    "import pprint\n",
    "pp = pprint.PrettyPrinter(indent=4)\n",
    "\n",
    "from decimal import Decimal\n",
    "parameters = {\n",
    "    'spot_price_reference': ['DAI', 'DAI', 'DAI'],\n",
    "    'decoding_type': ['REPLAY_OUTPUT', 'SIMPLIFIED', 'CONTRACT_CALL'],\n",
    "    'weight_change_factor': [0,0,0]\n",
    "}\n",
    "pp.pprint(parameters)"
   ]
  },
  {
   "cell_type": "markdown",
   "metadata": {},
   "source": [
    "#### Import Pool Transactions and Initialize Pool state\n",
    "\n",
    "Use (XX .py name) to write a .json file and use historial transaction data in this model. For more information please visit (XX link)."
   ]
  },
  {
   "cell_type": "code",
   "execution_count": null,
   "metadata": {},
   "outputs": [],
   "source": [
    "from model.genesis_states import generate_initial_state\n",
    "\n",
    "initial_values = generate_initial_state(initial_values_json='data/0x8b6e6e7b5b3801fed2cafd4b22b8a16c2f2db21a-initial_pool_states-prices.json', spot_price_base_currency=parameters['spot_price_reference'][0])"
   ]
  },
  {
   "cell_type": "markdown",
   "metadata": {},
   "source": [
    "#### State Variables and Initial Values\n",
    "\n",
    "XX - Comments on pool parameters like swap fee, how to change it (atm pulled from .json/Google Cloud)"
   ]
  },
  {
   "cell_type": "code",
   "execution_count": null,
   "metadata": {},
   "outputs": [],
   "source": [
    "print('## State Variables')\n",
    "print('# Pool')\n",
    "pool = initial_values['pool']\n",
    "pp.pprint(initial_values)\n"
   ]
  },
  {
   "cell_type": "markdown",
   "metadata": {},
   "source": [
    "#### External Token Prices\n",
    "\n",
    "In order to analyse USD-based pool metrics like TVL, you can plug in external price feeds. For more information please visit (XX link)"
   ]
  },
  {
   "cell_type": "code",
   "execution_count": null,
   "metadata": {},
   "outputs": [],
   "source": [
    "print('# External token prices, initial state')\n",
    "token_prices = initial_values['token_prices']\n",
    "pp.pprint(token_prices)\n",
    "\n",
    "print('# Action Type')\n",
    "action_type = initial_values['action_type']\n",
    "pp.pprint(action_type)\n"
   ]
  },
  {
   "cell_type": "markdown",
   "metadata": {},
   "source": [
    "### C1.2 State Update Functions & Policies\n",
    "\n",
    "cadCAD state update functions replicate the following Balancer Pool Transactions:  \n",
    "(XX check list, all transaction types, move to documentation?)\n",
    "\n",
    "a) Add Liquidity\n",
    "= join policy \n",
    "- `p_join_pool`\n",
    "- `p_join_swap_extern_amount_in`\n",
    "\n",
    "b) Withdraw Liquidity\n",
    "= exit policy \n",
    "- `p_exit_swap_extern_amount_out`\n",
    "\n",
    "b) Swap\n",
    "= swap policy \n",
    "- `p_swap_exact_amount_in`\n",
    "\n",
    "See 'system_policies.py'.  \n",
    "For a detailed description of the transactions, please visit (Gitbook link)"
   ]
  },
  {
   "cell_type": "markdown",
   "metadata": {},
   "source": [
    "### C1.3 Partial State Update Blocks\n",
    "\n",
    "\n",
    "1. Parse action and update pool\n",
    "2. Update external prices\n",
    "3. Calculate metrics\n",
    "\n",
    "The BPool smart contract logic is split in 2, the state update blocks 1 (apply BMath to update pool state) and 3 (use BMath to `get_spot_price` of the tokens after the trades, which is a system metric)\n",
    "\n",
    "\n",
    "\n",
    "Defined in [partial_state_update_block.py](./model/partial_state_update_block.py)"
   ]
  },
  {
   "cell_type": "code",
   "execution_count": null,
   "metadata": {},
   "outputs": [],
   "source": [
    "from model.partial_state_update_block import generate_partial_state_update_blocks\n",
    "\n",
    "result = generate_partial_state_update_blocks('data/0x8b6e6e7b5b3801fed2cafd4b22b8a16c2f2db21a-actions-prices.json')\n",
    "partial_state_update_blocks = result['partial_state_update_blocks']\n",
    "pp.pprint(partial_state_update_blocks)"
   ]
  },
  {
   "cell_type": "markdown",
   "metadata": {},
   "source": [
    "### C1.4 Configuration\n",
    "\n",
    "As stated in C1.2 a pool's state is updated by\n",
    "- **actions** (such as swaps) and\n",
    "- **price signals** (USD values of tokens)\n",
    "\n",
    "These updates are captured in unique **timesteps**.\n",
    "\n",
    "In most cases you might want to run the simulation across all timesteps included in your .json file - however you can specify any simulation range below.\n",
    "\n",
    "(XX - instructions to change parameters, what parameters we don't touch atm/documentation?)"
   ]
  },
  {
   "cell_type": "code",
   "execution_count": null,
   "metadata": {},
   "outputs": [],
   "source": [
    "steps_number = result['steps_number']\n",
    "print('# Steps ', steps_number)\n",
    "sim_config = config_sim(\n",
    "    {\n",
    "        'N': 1,  # number of monte carlo runs\n",
    "        'T': range(steps_number - 1),  # number of timesteps - 1267203 is last action timestep (timestamp - initial timestamp)\n",
    "        'M': parameters,  # simulation parameters\n",
    "    }\n",
    ")"
   ]
  },
  {
   "cell_type": "markdown",
   "metadata": {},
   "source": [
    "### C1.5 Execution"
   ]
  },
  {
   "cell_type": "code",
   "execution_count": null,
   "metadata": {},
   "outputs": [],
   "source": [
    "\n",
    "from model.sim_runner import *\n",
    "\n",
    "df = run(initial_values, partial_state_update_blocks, sim_config)"
   ]
  },
  {
   "cell_type": "markdown",
   "metadata": {},
   "source": [
    "### C1.6 Simulation Output Preparation\n",
    "\n",
    "Post-processing (utils.py) adds metrics to the data frame, such as \n",
    "- `token_k_values`  \n",
    "based on\n",
    "- `token_k_balances`\n",
    "- `token_k_price`  \n",
    "and calculates accumulated values, such as\n",
    "- `token_total_value` \n"
   ]
  },
  {
   "cell_type": "code",
   "execution_count": null,
   "metadata": {
    "scrolled": true
   },
   "outputs": [],
   "source": [
    "from model.parts.utils import post_processing\n",
    "\n",
    "p_df = post_processing(df, include_spot_prices=False)\n",
    "\n",
    "p_df.tail(1000)"
   ]
  },
  {
   "cell_type": "markdown",
   "metadata": {},
   "source": [
    "# D. Simulation Outcome & Pool Exploration\n",
    "\n",
    "Below we show a range of plots exploring pool states in the simulation:\n",
    "\n",
    "**a) Pool Power:**  \n",
    "- D1.1 TVL (Total Value Locked, over time) compared to  \n",
    "- D1.1 Pool Size Growth (Number of tokens in the pool, over time)  \n",
    "- D1.2 Token Balances (individual balances, over time)\n",
    "\n",
    "**b) Pool Characteristics:**  \n",
    "- D1.3 Source of Pool Power Growth (Pool Shares (BPT) vs. Fees collected, over time)\n",
    "- D1.4 Token Ratio (over time)\n",
    "- D1.5 Action Types (per timestep)"
   ]
  },
  {
   "cell_type": "code",
   "execution_count": null,
   "metadata": {},
   "outputs": [],
   "source": [
    "import pandas as pd\n",
    "import plotly.express as px\n",
    "import plotly.graph_objects as go\n",
    "from plotly.subplots import make_subplots"
   ]
  },
  {
   "cell_type": "code",
   "execution_count": null,
   "metadata": {},
   "outputs": [],
   "source": [
    "# read csv, for test purpose only\n",
    "# p_df = pd.read_csv('BAMM-out.csv', sep=\";\")\n",
    "# p_df"
   ]
  },
  {
   "cell_type": "markdown",
   "metadata": {},
   "source": [
    "### D1.2 Token Balances"
   ]
  },
  {
   "cell_type": "code",
   "execution_count": null,
   "metadata": {
    "scrolled": false
   },
   "outputs": [],
   "source": [
    "k = 2 #define number of tokens in your pool\n",
    "fig = make_subplots(rows=k, cols=1)\n",
    "\n",
    "fig.add_trace(go.Scatter(x=p_df['timestep'], y=p_df['token_weth_balance'], name='token_weth_balance'), row=1, col=1)\n",
    "fig.add_trace(go.Scatter(x=p_df['timestep'], y=p_df['token_dai_balance'], name='token_dai_balance'), row=2, col=1)\n",
    "fig.update_layout(height=400, width=1000, title_text=\"<b>Token Balances in #</b>\")\n",
    "fig.show()"
   ]
  },
  {
   "cell_type": "code",
   "execution_count": null,
   "metadata": {},
   "outputs": [],
   "source": [
    "fig = px.scatter(p_df,x=p_df['timestep'], y=p_df['token_weth_balance'], facet_row=\"subset\")\n",
    "fig.show()"
   ]
  },
  {
   "cell_type": "code",
   "execution_count": null,
   "metadata": {},
   "outputs": [],
   "source": [
    "\n",
    "fig2 = px.scatter(p_df,x=p_df['timestep'], y=p_df['token_dai_balance'], facet_row=\"subset\")\n",
    "fig2.show()"
   ]
  },
  {
   "cell_type": "code",
   "execution_count": null,
   "metadata": {},
   "outputs": [],
   "source": [
    "df_simplified = p_df[p_df['subset'] == 0]\n",
    "df_simplified = df_simplified[['change_datetime','token_dai_balance', 'token_weth_balance']].copy()\n",
    "df_simplified = df_simplified.rename(columns={\"token_dai_balance\" : \"token_dai_balance_simplified\", 'token_weth_balance': 'token_weth_balance_simplified' })\n",
    "df_simplified = df_simplified.set_index('change_datetime')\n",
    "\n",
    "df_contract_call = p_df[p_df['subset'] == 1]\n",
    "df_contract_call = df_contract_call[['change_datetime','token_dai_balance', 'token_weth_balance']].copy()\n",
    "df_contract_call = df_contract_call.rename(columns={\"token_dai_balance\" : \"token_dai_balance_contract_call\", 'token_weth_balance': 'token_weth_balance_contract_call' })\n",
    "df_contract_call = df_contract_call.set_index('change_datetime')\n",
    "\n",
    "df_reference = p_df[p_df['subset'] == 2] \n",
    "df_reference = df_reference[['change_datetime', 'token_dai_balance', 'token_weth_balance']].copy()\n",
    "df_reference = df_reference.rename(columns={\"token_dai_balance\" : \"token_dai_balance_reference\", 'token_weth_balance': 'token_weth_balance_reference' })\n",
    "df_reference =df_reference.set_index('change_datetime')\n",
    "\n",
    "df_result = df_reference.join(df_contract_call).join(df_simplified)\n",
    "\n",
    "df_result['token_dai_error_simplified'] = (df_result['token_dai_balance_simplified']-df_result['token_dai_balance_reference'])/df_result['token_dai_balance_reference']\n",
    "df_result['token_weth_error_simplified'] = (df_result['token_weth_balance_simplified']-df_result['token_weth_balance_reference'])/df_result['token_weth_balance_reference']\n",
    "df_result['token_dai_error_contract_call'] = (df_result['token_dai_balance_contract_call']-df_result['token_dai_balance_reference'])/df_result['token_dai_balance_reference']\n",
    "df_result['token_weth_error_contract_call'] = (df_result['token_weth_balance_contract_call']-df_result['token_weth_balance_reference'])/df_result['token_dai_balance_reference']\n",
    "\n",
    "\n",
    "df_result = df_result.reset_index()\n",
    "\n",
    "df_result\n"
   ]
  },
  {
   "cell_type": "code",
   "execution_count": null,
   "metadata": {},
   "outputs": [],
   "source": [
    "fig_diff_simplified_dai = px.scatter(p_df,x=df_result.index, y=df_result['token_dai_error_simplified'] )\n",
    "fig_diff_simplified_dai.show()\n"
   ]
  },
  {
   "cell_type": "code",
   "execution_count": null,
   "metadata": {},
   "outputs": [],
   "source": [
    "fig_diff_simplified_weth = px.scatter(p_df,x=df_result.index, y=df_result['token_dai_error_contract_call'])\n",
    "fig_diff_simplified_weth.show()\n"
   ]
  },
  {
   "cell_type": "code",
   "execution_count": null,
   "metadata": {},
   "outputs": [],
   "source": [
    "fig_diff_simplified_weth = px.scatter(p_df,x=df_result.index, y=df_result['token_weth_error_simplified'])\n",
    "fig_diff_simplified_weth.show()\n"
   ]
  },
  {
   "cell_type": "code",
   "execution_count": null,
   "metadata": {},
   "outputs": [],
   "source": [
    "fig_diff_simplified_weth = px.scatter(p_df,x=df_result.index, y=df_result['token_weth_error_contract_call'])\n",
    "fig_diff_simplified_weth.show()\n"
   ]
  },
  {
   "cell_type": "markdown",
   "metadata": {},
   "source": [
    "# E. System Validation and Limitations\n",
    "\n",
    "(XX check all and add!)\n",
    "\n",
    "- move to Gitbook!\n",
    "- document the steps taken to validate if the model reflects real Balancer AMM properly (Did we build the right model?)\n",
    "- document the steps taken to verify if the model creates reliable results (Did we build the model right?)\n",
    "\n",
    "### Notes (Draft!)\n",
    "**a) BMath Calculations:**  \n",
    "Our goal is to implement the BMath calculations in this Python model in a way that it replicates *exactly* the calculation results in an EVM.\n",
    "\n",
    "We've verified the model with a series of tests:\n",
    "- create tests using balancer's smart contract repos\n",
    "- generate a pool contract in a local EVM, do a swap or whatever operation, \n",
    "- put those input outputs as a test in python, port the code, test to see if the results match\n",
    "\n",
    "**b) external USD price feed** \n",
    "- in this simulation we're using historical USD prices from xxx (source)  \n",
    "- to map blocks and transactions we've ... (how we parsed USD price feed)\n",
    "\n",
    "**c) Our simulation does not include:**  \n",
    "- gas prices or add_fees when adding liquidity  \n",
    "- \n",
    "\n",
    "**Results: (summarize)**\n",
    "\n",
    "(Notes for ourselves:\n",
    "- assertAlmostEqual takes 7 decimal places for comparision, sometimes we had to set 5 decimal places for the test to pass\n",
    "- we could publish the EVM tests  as companion in the docs later but right now is very rough code\n",
    "- to run the test go to your virtual env, instlal requirements with pip, then run pytest\n",
    "- they should pass\n",
    "- when everything is tested and works as the contracts, we could move on to cadCAD stuff\n",
    "\n",
    "According to Balancer.finance documentation \"The formulas are sufficient to describe the functional specification, but they are not straightforward to implement for the EVM, in part due to a lack of mature fixed-point math libraries.\" (https://docs.balancer.finance/core-concepts/protocol/index))"
   ]
  },
  {
   "cell_type": "code",
   "execution_count": null,
   "metadata": {},
   "outputs": [],
   "source": []
  },
  {
   "cell_type": "code",
   "execution_count": null,
   "metadata": {},
   "outputs": [],
   "source": []
  },
  {
   "cell_type": "code",
   "execution_count": null,
   "metadata": {},
   "outputs": [],
   "source": []
  },
  {
   "cell_type": "markdown",
   "metadata": {},
   "source": [
    "# F. Comments\n",
    "\n",
    "closing comments if appropriate, and links to other notebooks/other use cases"
   ]
  }
 ],
 "metadata": {
  "kernelspec": {
   "display_name": "Python 3",
   "language": "python",
   "name": "python3"
  },
  "language_info": {
   "codemirror_mode": {
    "name": "ipython",
    "version": 3
   },
   "file_extension": ".py",
   "mimetype": "text/x-python",
   "name": "python",
   "nbconvert_exporter": "python",
   "pygments_lexer": "ipython3",
   "version": "3.8.5"
  }
 },
 "nbformat": 4,
 "nbformat_minor": 4
}
