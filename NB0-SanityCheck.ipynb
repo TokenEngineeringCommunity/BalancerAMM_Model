{
 "cells": [
  {
   "cell_type": "markdown",
   "metadata": {},
   "source": [
    "# NB #0:  Sanity Check\n",
    "\n",
    "The purpose of this notebook is to compare the accuracy of our model and its various ways of data gathering against actual pool history\n",
    "\n",
    "This simulation will compare:\n",
    "\n",
    "1- **Contract call:** getting input data from user contract call and exact smart contract method( parsed from decoded LOG_CALL anonymous events that balancer uses to log all activity) and apply our model to get outputs\n",
    "\n",
    "2- **Simplified:** getting input data from pool events (LOG_JOIN, LOG_EXIT, LOG_SWAP) parsed from BigQuery and applying our model to get outputs. This method should have more deviations because it's assuming the flavour of BPool join, swap, exit, joinswap and exitswap and using after the fact output data as input.\n",
    "\n",
    "3- **Plot output:** just adding and removing balances as seen in pool events"
   ]
  },
  {
   "cell_type": "markdown",
   "metadata": {},
   "source": [
    "# Table of content\n",
    "(XX - to be added)"
   ]
  },
  {
   "cell_type": "markdown",
   "metadata": {},
   "source": [
    "# A. System Context"
   ]
  },
  {
   "cell_type": "markdown",
   "metadata": {},
   "source": [
    "### System Specification\n",
    "- Differential Syntax Diagram (XX update!!)\n",
    "- Link to Mathematical Specification (XX link Documentation/.py for reference)\n",
    "- Link to Software Archtitecture (XX link!)"
   ]
  },
  {
   "cell_type": "markdown",
   "metadata": {},
   "source": [
    "### Naming Convention\n",
    "\n",
    "All code provided for this package follows a specific naming convention, as documented here (link)\n"
   ]
  },
  {
   "cell_type": "markdown",
   "metadata": {},
   "source": [
    "# B. cadCAD Notebook"
   ]
  },
  {
   "cell_type": "markdown",
   "metadata": {},
   "source": [
    "### B1.1 Dependencies"
   ]
  },
  {
   "cell_type": "code",
   "execution_count": 1,
   "metadata": {},
   "outputs": [],
   "source": [
    "import pandas as pd \n",
    "from cadCAD.configuration.utils import config_sim"
   ]
  },
  {
   "cell_type": "markdown",
   "metadata": {},
   "source": [
    "# C. Run Simulations "
   ]
  },
  {
   "cell_type": "markdown",
   "metadata": {},
   "source": [
    "### C1.1 Initialize Pool\n"
   ]
  },
  {
   "cell_type": "markdown",
   "metadata": {},
   "source": [
    "(XX how to data parse in readme.file in data folder)  \n",
    "(XX state variables, make list)  \n",
    "(XX Parameters, make list)  \n",
    "(XX weigth, check, why 0.1/0.4, translate to decimal?)  \n",
    "(XX print the pool address?)"
   ]
  },
  {
   "cell_type": "code",
   "execution_count": 2,
   "metadata": {},
   "outputs": [
    {
     "name": "stdout",
     "output_type": "stream",
     "text": [
      "{   'decoding_type': ['REPLAY_OUTPUT', 'SIMPLIFIED', 'CONTRACT_CALL'],\n",
      "    'spot_price_reference': ['DAI', 'DAI', 'DAI'],\n",
      "    'weight_change_factor': [0, 0, 0]}\n"
     ]
    }
   ],
   "source": [
    "import pprint\n",
    "pp = pprint.PrettyPrinter(indent=4)\n",
    "\n",
    "from decimal import Decimal\n",
    "parameters = {\n",
    "    'spot_price_reference': ['DAI', 'DAI', 'DAI'],\n",
    "    'decoding_type': ['REPLAY_OUTPUT', 'SIMPLIFIED', 'CONTRACT_CALL'],\n",
    "    'weight_change_factor': [0,0,0]\n",
    "}\n",
    "pp.pprint(parameters)"
   ]
  },
  {
   "cell_type": "markdown",
   "metadata": {},
   "source": [
    "#### Import Pool Transactions and Initialize Pool state\n",
    "\n",
    "Use (XX .py name) to write a .json file and use historial transaction data in this model. For more information please visit (XX link)."
   ]
  },
  {
   "cell_type": "code",
   "execution_count": 3,
   "metadata": {},
   "outputs": [],
   "source": [
    "from model.genesis_states import generate_initial_state\n",
    "\n",
    "initial_values = generate_initial_state(initial_values_json='data/0x8b6e6e7b5b3801fed2cafd4b22b8a16c2f2db21a-initial_pool_states-prices.json', spot_price_base_currency=parameters['spot_price_reference'][0])"
   ]
  },
  {
   "cell_type": "markdown",
   "metadata": {},
   "source": [
    "#### State Variables and Initial Values\n",
    "\n",
    "XX - Comments on pool parameters like swap fee, how to change it (atm pulled from .json/Google Cloud)"
   ]
  },
  {
   "cell_type": "code",
   "execution_count": 4,
   "metadata": {},
   "outputs": [
    {
     "name": "stdout",
     "output_type": "stream",
     "text": [
      "## State Variables\n",
      "# Pool\n",
      "{   'action_type': 'pool_creation',\n",
      "    'change_datetime': '2020-12-07T13:34:14+00:00',\n",
      "    'pool': <Pool tokens: {'DAI': <Token weight: 0.2 (calculated), denorm_weight: 10, balance: 10000000, bound: True>, 'WETH': <Token weight: 0.8 (calculated), denorm_weight: 40, balance: 67738.636173102396002749, bound: True>} generated_fees: {'DAI': 0.0, 'WETH': 0.0} shares: 100 swap_fee: 0.0025 >,\n",
      "    'spot_prices': {'DAI': {'WETH': Decimal('591.9849127769919849127838632')}},\n",
      "    'token_prices': {'DAI': 1.0049335, 'WETH': 596.48}}\n"
     ]
    }
   ],
   "source": [
    "print('## State Variables')\n",
    "print('# Pool')\n",
    "pool = initial_values['pool']\n",
    "pp.pprint(initial_values)\n"
   ]
  },
  {
   "cell_type": "markdown",
   "metadata": {},
   "source": [
    "#### External Token Prices\n",
    "\n",
    "In order to analyse USD-based pool metrics like TVL, you can plug in external price feeds. For more information please visit (XX link)"
   ]
  },
  {
   "cell_type": "code",
   "execution_count": 5,
   "metadata": {},
   "outputs": [
    {
     "name": "stdout",
     "output_type": "stream",
     "text": [
      "# External token prices, initial state\n",
      "{'DAI': 1.0049335, 'WETH': 596.48}\n",
      "# Action Type\n",
      "'pool_creation'\n"
     ]
    }
   ],
   "source": [
    "print('# External token prices, initial state')\n",
    "token_prices = initial_values['token_prices']\n",
    "pp.pprint(token_prices)\n",
    "\n",
    "print('# Action Type')\n",
    "action_type = initial_values['action_type']\n",
    "pp.pprint(action_type)\n"
   ]
  },
  {
   "cell_type": "markdown",
   "metadata": {},
   "source": [
    "### C1.2 State Update Functions & Policies\n",
    "\n",
    "cadCAD state update functions replicate the following Balancer Pool Transactions:  \n",
    "(XX check list, all transaction types, move to documentation?)\n",
    "\n",
    "a) Add Liquidity\n",
    "= join policy \n",
    "- `p_join_pool`\n",
    "- `p_join_swap_extern_amount_in`\n",
    "\n",
    "b) Withdraw Liquidity\n",
    "= exit policy \n",
    "- `p_exit_swap_extern_amount_out`\n",
    "\n",
    "b) Swap\n",
    "= swap policy \n",
    "- `p_swap_exact_amount_in`\n",
    "\n",
    "See 'system_policies.py'.  \n",
    "For a detailed description of the transactions, please visit (Gitbook link)"
   ]
  },
  {
   "cell_type": "markdown",
   "metadata": {},
   "source": [
    "### C1.3 Partial State Update Blocks\n",
    "\n",
    "\n",
    "1. Parse action and update pool\n",
    "2. Update external prices\n",
    "3. Calculate metrics\n",
    "\n",
    "The BPool smart contract logic is split in 2, the state update blocks 1 (apply BMath to update pool state) and 3 (use BMath to `get_spot_price` of the tokens after the trades, which is a system metric)\n",
    "\n",
    "\n",
    "\n",
    "Defined in [partial_state_update_block.py](./model/partial_state_update_block.py)"
   ]
  },
  {
   "cell_type": "code",
   "execution_count": 6,
   "metadata": {},
   "outputs": [
    {
     "name": "stdout",
     "output_type": "stream",
     "text": [
      "[   {   'policies': {   'external_signals': <function ActionDecoder.p_action_decoder at 0x7f6a5fc6af70>},\n",
      "        'variables': {   'action_type': <function s_update_action_type at 0x7f6a5fc87160>,\n",
      "                         'change_datetime': <function s_update_change_datetime at 0x7f6a5fc870d0>,\n",
      "                         'pool': <function s_update_pool at 0x7f6a5fc873a0>,\n",
      "                         'spot_prices': <function s_update_spot_prices at 0x7f6a5fc874c0>,\n",
      "                         'token_prices': <function s_update_external_price_feeds at 0x7f6a5fc87e50>}}]\n"
     ]
    }
   ],
   "source": [
    "from model.partial_state_update_block import generate_partial_state_update_blocks\n",
    "\n",
    "result = generate_partial_state_update_blocks('data/0x8b6e6e7b5b3801fed2cafd4b22b8a16c2f2db21a-actions-prices.json')\n",
    "partial_state_update_blocks = result['partial_state_update_blocks']\n",
    "pp.pprint(partial_state_update_blocks)"
   ]
  },
  {
   "cell_type": "markdown",
   "metadata": {},
   "source": [
    "### C1.4 Configuration\n",
    "\n",
    "As stated in C1.2 a pool's state is updated by\n",
    "- **actions** (such as swaps) and\n",
    "- **price signals** (USD values of tokens)\n",
    "\n",
    "These updates are captured in unique **timesteps**.\n",
    "\n",
    "In most cases you might want to run the simulation across all timesteps included in your .json file - however you can specify any simulation range below.\n",
    "\n",
    "(XX - instructions to change parameters, what parameters we don't touch atm/documentation?)"
   ]
  },
  {
   "cell_type": "code",
   "execution_count": 7,
   "metadata": {},
   "outputs": [
    {
     "name": "stdout",
     "output_type": "stream",
     "text": [
      "# Steps  49199\n"
     ]
    }
   ],
   "source": [
    "steps_number = result['steps_number']\n",
    "print('# Steps ', steps_number)\n",
    "sim_config = config_sim(\n",
    "    {\n",
    "        'N': 1,  # number of monte carlo runs\n",
    "        'T': range(steps_number - 1),  # number of timesteps - 1267203 is last action timestep (timestamp - initial timestamp)\n",
    "        'M': parameters,  # simulation parameters\n",
    "    }\n",
    ")"
   ]
  },
  {
   "cell_type": "markdown",
   "metadata": {},
   "source": [
    "### C1.5 Execution"
   ]
  },
  {
   "cell_type": "code",
   "execution_count": 8,
   "metadata": {},
   "outputs": [
    {
     "name": "stdout",
     "output_type": "stream",
     "text": [
      "\n",
      "                  ___________    ____\n",
      "  ________ __ ___/ / ____/   |  / __ \\\n",
      " / ___/ __` / __  / /   / /| | / / / /\n",
      "/ /__/ /_/ / /_/ / /___/ ___ |/ /_/ /\n",
      "\\___/\\__,_/\\__,_/\\____/_/  |_/_____/\n",
      "by cadCAD\n",
      "\n",
      "Execution Mode: single_proc\n",
      "Configuration Count: 1\n",
      "Dimensions of the first simulation: (Timesteps, Params, Runs, Vars) = (49198, 3, 3, 5)\n",
      "Execution Method: parallelize_simulations\n",
      "Execution Mode: parallelized\n",
      "Total execution time: 27.64s\n"
     ]
    }
   ],
   "source": [
    "\n",
    "from model.sim_runner import *\n",
    "\n",
    "df = run(initial_values, partial_state_update_blocks, sim_config)"
   ]
  },
  {
   "cell_type": "markdown",
   "metadata": {},
   "source": [
    "### C1.6 Simulation Output Preparation\n",
    "\n",
    "Post-processing (utils.py) adds metrics to the data frame, such as \n",
    "- `token_k_values`  \n",
    "based on\n",
    "- `token_k_balances`\n",
    "- `token_k_price`  \n",
    "and calculates accumulated values, such as\n",
    "- `token_total_value` \n"
   ]
  },
  {
   "cell_type": "code",
   "execution_count": 9,
   "metadata": {
    "scrolled": true
   },
   "outputs": [
    {
     "data": {
      "text/html": [
       "<div>\n",
       "<style scoped>\n",
       "    .dataframe tbody tr th:only-of-type {\n",
       "        vertical-align: middle;\n",
       "    }\n",
       "\n",
       "    .dataframe tbody tr th {\n",
       "        vertical-align: top;\n",
       "    }\n",
       "\n",
       "    .dataframe thead th {\n",
       "        text-align: right;\n",
       "    }\n",
       "</style>\n",
       "<table border=\"1\" class=\"dataframe\">\n",
       "  <thead>\n",
       "    <tr style=\"text-align: right;\">\n",
       "      <th></th>\n",
       "      <th>pool</th>\n",
       "      <th>action_type</th>\n",
       "      <th>change_datetime</th>\n",
       "      <th>token_prices</th>\n",
       "      <th>spot_prices</th>\n",
       "      <th>simulation</th>\n",
       "      <th>subset</th>\n",
       "      <th>run</th>\n",
       "      <th>substep</th>\n",
       "      <th>timestep</th>\n",
       "      <th>...</th>\n",
       "      <th>token_weth_weight</th>\n",
       "      <th>generated_fees_dai</th>\n",
       "      <th>generated_fees_weth</th>\n",
       "      <th>token_dai_price</th>\n",
       "      <th>token_weth_price</th>\n",
       "      <th>token_dai_value</th>\n",
       "      <th>token_weth_value</th>\n",
       "      <th>tvl</th>\n",
       "      <th>invariant</th>\n",
       "      <th>total_token_balances</th>\n",
       "    </tr>\n",
       "  </thead>\n",
       "  <tbody>\n",
       "    <tr>\n",
       "      <th>146597</th>\n",
       "      <td>&lt;Pool tokens: {'DAI': &lt;Token weight: 0.2 (calc...</td>\n",
       "      <td>external_price_update</td>\n",
       "      <td>2021-03-01 03:10:00+00:00</td>\n",
       "      <td>{'WETH': 1439.115, 'DAI': 1.0010685}</td>\n",
       "      <td>{'DAI': {'WETH': 1452.762626680033907327888480}}</td>\n",
       "      <td>0</td>\n",
       "      <td>2</td>\n",
       "      <td>2</td>\n",
       "      <td>1</td>\n",
       "      <td>48199</td>\n",
       "      <td>...</td>\n",
       "      <td>0.8</td>\n",
       "      <td>0.0</td>\n",
       "      <td>0.000000</td>\n",
       "      <td>1.001068</td>\n",
       "      <td>1439.115</td>\n",
       "      <td>51397.991002</td>\n",
       "      <td>203953.083739</td>\n",
       "      <td>255351.074741</td>\n",
       "      <td>460.515541</td>\n",
       "      <td>51484.852052</td>\n",
       "    </tr>\n",
       "    <tr>\n",
       "      <th>146598</th>\n",
       "      <td>&lt;Pool tokens: {'DAI': &lt;Token weight: 0.2 (calc...</td>\n",
       "      <td>external_price_update</td>\n",
       "      <td>2021-03-01 03:15:00+00:00</td>\n",
       "      <td>{'WETH': 1442.305, 'DAI': 1.0009945}</td>\n",
       "      <td>{'DAI': {'WETH': 1452.762626680033907327888480}}</td>\n",
       "      <td>0</td>\n",
       "      <td>2</td>\n",
       "      <td>2</td>\n",
       "      <td>1</td>\n",
       "      <td>48200</td>\n",
       "      <td>...</td>\n",
       "      <td>0.8</td>\n",
       "      <td>0.0</td>\n",
       "      <td>0.000000</td>\n",
       "      <td>1.000995</td>\n",
       "      <td>1442.305</td>\n",
       "      <td>51394.191610</td>\n",
       "      <td>204405.174320</td>\n",
       "      <td>255799.365930</td>\n",
       "      <td>460.515541</td>\n",
       "      <td>51484.852052</td>\n",
       "    </tr>\n",
       "    <tr>\n",
       "      <th>146599</th>\n",
       "      <td>&lt;Pool tokens: {'DAI': &lt;Token weight: 0.2 (calc...</td>\n",
       "      <td>external_price_update</td>\n",
       "      <td>2021-03-01 03:20:00+00:00</td>\n",
       "      <td>{'WETH': 1442.0149999999999, 'DAI': 1.0010195}</td>\n",
       "      <td>{'DAI': {'WETH': 1452.762626680033907327888480}}</td>\n",
       "      <td>0</td>\n",
       "      <td>2</td>\n",
       "      <td>2</td>\n",
       "      <td>1</td>\n",
       "      <td>48201</td>\n",
       "      <td>...</td>\n",
       "      <td>0.8</td>\n",
       "      <td>0.0</td>\n",
       "      <td>0.000000</td>\n",
       "      <td>1.001019</td>\n",
       "      <td>1442.015</td>\n",
       "      <td>51395.475188</td>\n",
       "      <td>204364.075176</td>\n",
       "      <td>255759.550365</td>\n",
       "      <td>460.515541</td>\n",
       "      <td>51484.852052</td>\n",
       "    </tr>\n",
       "    <tr>\n",
       "      <th>146600</th>\n",
       "      <td>&lt;Pool tokens: {'DAI': &lt;Token weight: 0.2 (calc...</td>\n",
       "      <td>external_price_update</td>\n",
       "      <td>2021-03-01 03:25:00+00:00</td>\n",
       "      <td>{'WETH': 1442.58, 'DAI': 1.0011675}</td>\n",
       "      <td>{'DAI': {'WETH': 1452.762626680033907327888480}}</td>\n",
       "      <td>0</td>\n",
       "      <td>2</td>\n",
       "      <td>2</td>\n",
       "      <td>1</td>\n",
       "      <td>48202</td>\n",
       "      <td>...</td>\n",
       "      <td>0.8</td>\n",
       "      <td>0.0</td>\n",
       "      <td>0.000000</td>\n",
       "      <td>1.001167</td>\n",
       "      <td>1442.580</td>\n",
       "      <td>51403.073972</td>\n",
       "      <td>204444.147646</td>\n",
       "      <td>255847.221618</td>\n",
       "      <td>460.515541</td>\n",
       "      <td>51484.852052</td>\n",
       "    </tr>\n",
       "    <tr>\n",
       "      <th>146601</th>\n",
       "      <td>&lt;Pool tokens: {'DAI': &lt;Token weight: 0.2 (calc...</td>\n",
       "      <td>external_price_update</td>\n",
       "      <td>2021-03-01 03:30:00+00:00</td>\n",
       "      <td>{'WETH': 1444.53, 'DAI': 1.0011695}</td>\n",
       "      <td>{'DAI': {'WETH': 1452.762626680033907327888480}}</td>\n",
       "      <td>0</td>\n",
       "      <td>2</td>\n",
       "      <td>2</td>\n",
       "      <td>1</td>\n",
       "      <td>48203</td>\n",
       "      <td>...</td>\n",
       "      <td>0.8</td>\n",
       "      <td>0.0</td>\n",
       "      <td>0.000000</td>\n",
       "      <td>1.001170</td>\n",
       "      <td>1444.530</td>\n",
       "      <td>51403.176658</td>\n",
       "      <td>204720.503958</td>\n",
       "      <td>256123.680616</td>\n",
       "      <td>460.515541</td>\n",
       "      <td>51484.852052</td>\n",
       "    </tr>\n",
       "    <tr>\n",
       "      <th>...</th>\n",
       "      <td>...</td>\n",
       "      <td>...</td>\n",
       "      <td>...</td>\n",
       "      <td>...</td>\n",
       "      <td>...</td>\n",
       "      <td>...</td>\n",
       "      <td>...</td>\n",
       "      <td>...</td>\n",
       "      <td>...</td>\n",
       "      <td>...</td>\n",
       "      <td>...</td>\n",
       "      <td>...</td>\n",
       "      <td>...</td>\n",
       "      <td>...</td>\n",
       "      <td>...</td>\n",
       "      <td>...</td>\n",
       "      <td>...</td>\n",
       "      <td>...</td>\n",
       "      <td>...</td>\n",
       "      <td>...</td>\n",
       "      <td>...</td>\n",
       "    </tr>\n",
       "    <tr>\n",
       "      <th>147592</th>\n",
       "      <td>&lt;Pool tokens: {'DAI': &lt;Token weight: 0.2 (calc...</td>\n",
       "      <td>external_price_update</td>\n",
       "      <td>2021-03-04 11:50:00+00:00</td>\n",
       "      <td>{'WETH': 1563.45, 'DAI': 1.001287}</td>\n",
       "      <td>{'DAI': {'WETH': 1563.231045096752869265534889}}</td>\n",
       "      <td>0</td>\n",
       "      <td>2</td>\n",
       "      <td>2</td>\n",
       "      <td>1</td>\n",
       "      <td>49194</td>\n",
       "      <td>...</td>\n",
       "      <td>0.8</td>\n",
       "      <td>0.0</td>\n",
       "      <td>0.000000</td>\n",
       "      <td>1.001287</td>\n",
       "      <td>1563.450</td>\n",
       "      <td>47329.358085</td>\n",
       "      <td>189574.513041</td>\n",
       "      <td>236903.871126</td>\n",
       "      <td>399.826126</td>\n",
       "      <td>47389.777461</td>\n",
       "    </tr>\n",
       "    <tr>\n",
       "      <th>147593</th>\n",
       "      <td>&lt;Pool tokens: {'DAI': &lt;Token weight: 0.2 (calc...</td>\n",
       "      <td>external_price_update</td>\n",
       "      <td>2021-03-04 11:55:00+00:00</td>\n",
       "      <td>{'WETH': 1563.26, 'DAI': 1.0013675}</td>\n",
       "      <td>{'DAI': {'WETH': 1563.231045096752869265534889}}</td>\n",
       "      <td>0</td>\n",
       "      <td>2</td>\n",
       "      <td>2</td>\n",
       "      <td>1</td>\n",
       "      <td>49195</td>\n",
       "      <td>...</td>\n",
       "      <td>0.8</td>\n",
       "      <td>0.0</td>\n",
       "      <td>0.000000</td>\n",
       "      <td>1.001367</td>\n",
       "      <td>1563.260</td>\n",
       "      <td>47333.163201</td>\n",
       "      <td>189551.474787</td>\n",
       "      <td>236884.637988</td>\n",
       "      <td>399.826126</td>\n",
       "      <td>47389.777461</td>\n",
       "    </tr>\n",
       "    <tr>\n",
       "      <th>147594</th>\n",
       "      <td>&lt;Pool tokens: {'DAI': &lt;Token weight: 0.2 (calc...</td>\n",
       "      <td>external_price_update</td>\n",
       "      <td>2021-03-04 12:00:00+00:00</td>\n",
       "      <td>{'WETH': 1558.5549999999998, 'DAI': 1.0016375}</td>\n",
       "      <td>{'DAI': {'WETH': 1563.231045096752869265534889}}</td>\n",
       "      <td>0</td>\n",
       "      <td>2</td>\n",
       "      <td>2</td>\n",
       "      <td>1</td>\n",
       "      <td>49196</td>\n",
       "      <td>...</td>\n",
       "      <td>0.8</td>\n",
       "      <td>0.0</td>\n",
       "      <td>0.000000</td>\n",
       "      <td>1.001637</td>\n",
       "      <td>1558.555</td>\n",
       "      <td>47345.925702</td>\n",
       "      <td>188980.974878</td>\n",
       "      <td>236326.900580</td>\n",
       "      <td>399.826126</td>\n",
       "      <td>47389.777461</td>\n",
       "    </tr>\n",
       "    <tr>\n",
       "      <th>147595</th>\n",
       "      <td>&lt;Pool tokens: {'DAI': &lt;Token weight: 0.2 (calc...</td>\n",
       "      <td>external_price_update</td>\n",
       "      <td>2021-03-04 12:05:00+00:00</td>\n",
       "      <td>{'WETH': 1559.685, 'DAI': 1.001822}</td>\n",
       "      <td>{'DAI': {'WETH': 1563.231045096752869265534889}}</td>\n",
       "      <td>0</td>\n",
       "      <td>2</td>\n",
       "      <td>2</td>\n",
       "      <td>1</td>\n",
       "      <td>49197</td>\n",
       "      <td>...</td>\n",
       "      <td>0.8</td>\n",
       "      <td>0.0</td>\n",
       "      <td>0.000000</td>\n",
       "      <td>1.001822</td>\n",
       "      <td>1559.685</td>\n",
       "      <td>47354.646745</td>\n",
       "      <td>189117.991859</td>\n",
       "      <td>236472.638604</td>\n",
       "      <td>399.826126</td>\n",
       "      <td>47389.777461</td>\n",
       "    </tr>\n",
       "    <tr>\n",
       "      <th>147596</th>\n",
       "      <td>&lt;Pool tokens: {'DAI': &lt;Token weight: 0.2 (calc...</td>\n",
       "      <td>exit_swap</td>\n",
       "      <td>2021-03-04 12:14:48+00:00</td>\n",
       "      <td>{'WETH': 1559.685, 'DAI': 1.001822}</td>\n",
       "      <td>{'DAI': {'WETH': 1564.150125806055378037613321}}</td>\n",
       "      <td>0</td>\n",
       "      <td>2</td>\n",
       "      <td>2</td>\n",
       "      <td>1</td>\n",
       "      <td>49198</td>\n",
       "      <td>...</td>\n",
       "      <td>0.8</td>\n",
       "      <td>0.0</td>\n",
       "      <td>0.000036</td>\n",
       "      <td>1.001822</td>\n",
       "      <td>1559.685</td>\n",
       "      <td>47354.646745</td>\n",
       "      <td>189006.867808</td>\n",
       "      <td>236361.514553</td>\n",
       "      <td>399.638168</td>\n",
       "      <td>47389.706213</td>\n",
       "    </tr>\n",
       "  </tbody>\n",
       "</table>\n",
       "<p>1000 rows × 28 columns</p>\n",
       "</div>"
      ],
      "text/plain": [
       "                                                     pool  \\\n",
       "146597  <Pool tokens: {'DAI': <Token weight: 0.2 (calc...   \n",
       "146598  <Pool tokens: {'DAI': <Token weight: 0.2 (calc...   \n",
       "146599  <Pool tokens: {'DAI': <Token weight: 0.2 (calc...   \n",
       "146600  <Pool tokens: {'DAI': <Token weight: 0.2 (calc...   \n",
       "146601  <Pool tokens: {'DAI': <Token weight: 0.2 (calc...   \n",
       "...                                                   ...   \n",
       "147592  <Pool tokens: {'DAI': <Token weight: 0.2 (calc...   \n",
       "147593  <Pool tokens: {'DAI': <Token weight: 0.2 (calc...   \n",
       "147594  <Pool tokens: {'DAI': <Token weight: 0.2 (calc...   \n",
       "147595  <Pool tokens: {'DAI': <Token weight: 0.2 (calc...   \n",
       "147596  <Pool tokens: {'DAI': <Token weight: 0.2 (calc...   \n",
       "\n",
       "                  action_type           change_datetime  \\\n",
       "146597  external_price_update 2021-03-01 03:10:00+00:00   \n",
       "146598  external_price_update 2021-03-01 03:15:00+00:00   \n",
       "146599  external_price_update 2021-03-01 03:20:00+00:00   \n",
       "146600  external_price_update 2021-03-01 03:25:00+00:00   \n",
       "146601  external_price_update 2021-03-01 03:30:00+00:00   \n",
       "...                       ...                       ...   \n",
       "147592  external_price_update 2021-03-04 11:50:00+00:00   \n",
       "147593  external_price_update 2021-03-04 11:55:00+00:00   \n",
       "147594  external_price_update 2021-03-04 12:00:00+00:00   \n",
       "147595  external_price_update 2021-03-04 12:05:00+00:00   \n",
       "147596              exit_swap 2021-03-04 12:14:48+00:00   \n",
       "\n",
       "                                          token_prices  \\\n",
       "146597            {'WETH': 1439.115, 'DAI': 1.0010685}   \n",
       "146598            {'WETH': 1442.305, 'DAI': 1.0009945}   \n",
       "146599  {'WETH': 1442.0149999999999, 'DAI': 1.0010195}   \n",
       "146600             {'WETH': 1442.58, 'DAI': 1.0011675}   \n",
       "146601             {'WETH': 1444.53, 'DAI': 1.0011695}   \n",
       "...                                                ...   \n",
       "147592              {'WETH': 1563.45, 'DAI': 1.001287}   \n",
       "147593             {'WETH': 1563.26, 'DAI': 1.0013675}   \n",
       "147594  {'WETH': 1558.5549999999998, 'DAI': 1.0016375}   \n",
       "147595             {'WETH': 1559.685, 'DAI': 1.001822}   \n",
       "147596             {'WETH': 1559.685, 'DAI': 1.001822}   \n",
       "\n",
       "                                             spot_prices  simulation  subset  \\\n",
       "146597  {'DAI': {'WETH': 1452.762626680033907327888480}}           0       2   \n",
       "146598  {'DAI': {'WETH': 1452.762626680033907327888480}}           0       2   \n",
       "146599  {'DAI': {'WETH': 1452.762626680033907327888480}}           0       2   \n",
       "146600  {'DAI': {'WETH': 1452.762626680033907327888480}}           0       2   \n",
       "146601  {'DAI': {'WETH': 1452.762626680033907327888480}}           0       2   \n",
       "...                                                  ...         ...     ...   \n",
       "147592  {'DAI': {'WETH': 1563.231045096752869265534889}}           0       2   \n",
       "147593  {'DAI': {'WETH': 1563.231045096752869265534889}}           0       2   \n",
       "147594  {'DAI': {'WETH': 1563.231045096752869265534889}}           0       2   \n",
       "147595  {'DAI': {'WETH': 1563.231045096752869265534889}}           0       2   \n",
       "147596  {'DAI': {'WETH': 1564.150125806055378037613321}}           0       2   \n",
       "\n",
       "        run  substep  timestep  ... token_weth_weight  generated_fees_dai  \\\n",
       "146597    2        1     48199  ...               0.8                 0.0   \n",
       "146598    2        1     48200  ...               0.8                 0.0   \n",
       "146599    2        1     48201  ...               0.8                 0.0   \n",
       "146600    2        1     48202  ...               0.8                 0.0   \n",
       "146601    2        1     48203  ...               0.8                 0.0   \n",
       "...     ...      ...       ...  ...               ...                 ...   \n",
       "147592    2        1     49194  ...               0.8                 0.0   \n",
       "147593    2        1     49195  ...               0.8                 0.0   \n",
       "147594    2        1     49196  ...               0.8                 0.0   \n",
       "147595    2        1     49197  ...               0.8                 0.0   \n",
       "147596    2        1     49198  ...               0.8                 0.0   \n",
       "\n",
       "        generated_fees_weth  token_dai_price  token_weth_price  \\\n",
       "146597             0.000000         1.001068          1439.115   \n",
       "146598             0.000000         1.000995          1442.305   \n",
       "146599             0.000000         1.001019          1442.015   \n",
       "146600             0.000000         1.001167          1442.580   \n",
       "146601             0.000000         1.001170          1444.530   \n",
       "...                     ...              ...               ...   \n",
       "147592             0.000000         1.001287          1563.450   \n",
       "147593             0.000000         1.001367          1563.260   \n",
       "147594             0.000000         1.001637          1558.555   \n",
       "147595             0.000000         1.001822          1559.685   \n",
       "147596             0.000036         1.001822          1559.685   \n",
       "\n",
       "        token_dai_value  token_weth_value            tvl   invariant  \\\n",
       "146597     51397.991002     203953.083739  255351.074741  460.515541   \n",
       "146598     51394.191610     204405.174320  255799.365930  460.515541   \n",
       "146599     51395.475188     204364.075176  255759.550365  460.515541   \n",
       "146600     51403.073972     204444.147646  255847.221618  460.515541   \n",
       "146601     51403.176658     204720.503958  256123.680616  460.515541   \n",
       "...                 ...               ...            ...         ...   \n",
       "147592     47329.358085     189574.513041  236903.871126  399.826126   \n",
       "147593     47333.163201     189551.474787  236884.637988  399.826126   \n",
       "147594     47345.925702     188980.974878  236326.900580  399.826126   \n",
       "147595     47354.646745     189117.991859  236472.638604  399.826126   \n",
       "147596     47354.646745     189006.867808  236361.514553  399.638168   \n",
       "\n",
       "        total_token_balances  \n",
       "146597          51484.852052  \n",
       "146598          51484.852052  \n",
       "146599          51484.852052  \n",
       "146600          51484.852052  \n",
       "146601          51484.852052  \n",
       "...                      ...  \n",
       "147592          47389.777461  \n",
       "147593          47389.777461  \n",
       "147594          47389.777461  \n",
       "147595          47389.777461  \n",
       "147596          47389.706213  \n",
       "\n",
       "[1000 rows x 28 columns]"
      ]
     },
     "execution_count": 9,
     "metadata": {},
     "output_type": "execute_result"
    }
   ],
   "source": [
    "from model.parts.utils import post_processing\n",
    "\n",
    "p_df = post_processing(df, include_spot_prices=False)\n",
    "\n",
    "p_df.tail(1000)"
   ]
  },
  {
   "cell_type": "markdown",
   "metadata": {},
   "source": [
    "# D. Simulation Outcome & Pool Exploration\n",
    "\n",
    "Below we show a range of plots exploring pool states in the simulation:\n",
    "\n",
    "**a) Pool Power:**  \n",
    "- D1.1 TVL (Total Value Locked, over time) compared to  \n",
    "- D1.1 Pool Size Growth (Number of tokens in the pool, over time)  \n",
    "- D1.2 Token Balances (individual balances, over time)\n",
    "\n",
    "**b) Pool Characteristics:**  \n",
    "- D1.3 Source of Pool Power Growth (Pool Shares (BPT) vs. Fees collected, over time)\n",
    "- D1.4 Token Ratio (over time)\n",
    "- D1.5 Action Types (per timestep)"
   ]
  },
  {
   "cell_type": "code",
   "execution_count": 10,
   "metadata": {},
   "outputs": [
    {
     "ename": "ModuleNotFoundError",
     "evalue": "No module named 'plotly'",
     "output_type": "error",
     "traceback": [
      "\u001b[0;31m---------------------------------------------------------------------------\u001b[0m",
      "\u001b[0;31mModuleNotFoundError\u001b[0m                       Traceback (most recent call last)",
      "\u001b[0;32m<ipython-input-10-6a2f66d86c3d>\u001b[0m in \u001b[0;36m<module>\u001b[0;34m\u001b[0m\n\u001b[1;32m      1\u001b[0m \u001b[0;32mimport\u001b[0m \u001b[0mpandas\u001b[0m \u001b[0;32mas\u001b[0m \u001b[0mpd\u001b[0m\u001b[0;34m\u001b[0m\u001b[0;34m\u001b[0m\u001b[0m\n\u001b[0;32m----> 2\u001b[0;31m \u001b[0;32mimport\u001b[0m \u001b[0mplotly\u001b[0m\u001b[0;34m.\u001b[0m\u001b[0mexpress\u001b[0m \u001b[0;32mas\u001b[0m \u001b[0mpx\u001b[0m\u001b[0;34m\u001b[0m\u001b[0;34m\u001b[0m\u001b[0m\n\u001b[0m\u001b[1;32m      3\u001b[0m \u001b[0;32mimport\u001b[0m \u001b[0mplotly\u001b[0m\u001b[0;34m.\u001b[0m\u001b[0mgraph_objects\u001b[0m \u001b[0;32mas\u001b[0m \u001b[0mgo\u001b[0m\u001b[0;34m\u001b[0m\u001b[0;34m\u001b[0m\u001b[0m\n\u001b[1;32m      4\u001b[0m \u001b[0;32mfrom\u001b[0m \u001b[0mplotly\u001b[0m\u001b[0;34m.\u001b[0m\u001b[0msubplots\u001b[0m \u001b[0;32mimport\u001b[0m \u001b[0mmake_subplots\u001b[0m\u001b[0;34m\u001b[0m\u001b[0;34m\u001b[0m\u001b[0m\n",
      "\u001b[0;31mModuleNotFoundError\u001b[0m: No module named 'plotly'"
     ]
    }
   ],
   "source": [
    "import pandas as pd\n",
    "import plotly.express as px\n",
    "import plotly.graph_objects as go\n",
    "from plotly.subplots import make_subplots"
   ]
  },
  {
   "cell_type": "code",
   "execution_count": null,
   "metadata": {},
   "outputs": [],
   "source": [
    "# read csv, for test purpose only\n",
    "# p_df = pd.read_csv('BAMM-out.csv', sep=\";\")\n",
    "# p_df"
   ]
  },
  {
   "cell_type": "markdown",
   "metadata": {},
   "source": [
    "### D1.2 Token Balances"
   ]
  },
  {
   "cell_type": "code",
   "execution_count": null,
   "metadata": {
    "scrolled": false
   },
   "outputs": [],
   "source": [
    "k = 2 #define number of tokens in your pool\n",
    "fig = make_subplots(rows=k, cols=1)\n",
    "\n",
    "fig.add_trace(go.Scatter(x=p_df['timestep'], y=p_df['token_weth_balance'], name='token_weth_balance'), row=1, col=1)\n",
    "fig.add_trace(go.Scatter(x=p_df['timestep'], y=p_df['token_dai_balance'], name='token_dai_balance'), row=2, col=1)\n",
    "fig.update_layout(height=400, width=1000, title_text=\"<b>Token Balances in #</b>\")\n",
    "fig.show()"
   ]
  },
  {
   "cell_type": "code",
   "execution_count": null,
   "metadata": {},
   "outputs": [],
   "source": [
    "fig = px.scatter(p_df,x=p_df['timestep'], y=p_df['token_weth_balance'], facet_row=\"subset\")\n",
    "fig.show()"
   ]
  },
  {
   "cell_type": "code",
   "execution_count": null,
   "metadata": {},
   "outputs": [],
   "source": [
    "\n",
    "fig2 = px.scatter(p_df,x=p_df['timestep'], y=p_df['token_dai_balance'], facet_row=\"subset\")\n",
    "fig2.show()"
   ]
  },
  {
   "cell_type": "code",
   "execution_count": null,
   "metadata": {},
   "outputs": [],
   "source": [
    "df_simplified = p_df[p_df['subset'] == 0]\n",
    "df_simplified = df_simplified[['change_datetime','token_dai_balance', 'token_weth_balance']].copy()\n",
    "df_simplified = df_simplified.rename(columns={\"token_dai_balance\" : \"token_dai_balance_simplified\", 'token_weth_balance': 'token_weth_balance_simplified' })\n",
    "df_simplified = df_simplified.set_index('change_datetime')\n",
    "\n",
    "df_contract_call = p_df[p_df['subset'] == 1]\n",
    "df_contract_call = df_contract_call[['change_datetime','token_dai_balance', 'token_weth_balance']].copy()\n",
    "df_contract_call = df_contract_call.rename(columns={\"token_dai_balance\" : \"token_dai_balance_contract_call\", 'token_weth_balance': 'token_weth_balance_contract_call' })\n",
    "df_contract_call = df_contract_call.set_index('change_datetime')\n",
    "\n",
    "df_reference = p_df[p_df['subset'] == 2] \n",
    "df_reference = df_reference[['change_datetime', 'token_dai_balance', 'token_weth_balance']].copy()\n",
    "df_reference = df_reference.rename(columns={\"token_dai_balance\" : \"token_dai_balance_reference\", 'token_weth_balance': 'token_weth_balance_reference' })\n",
    "df_reference =df_reference.set_index('change_datetime')\n",
    "\n",
    "df_result = df_reference.join(df_contract_call).join(df_simplified)\n",
    "\n",
    "df_result['token_dai_error_simplified'] = (df_result['token_dai_balance_simplified']-df_result['token_dai_balance_reference'])/df_result['token_dai_balance_reference']\n",
    "df_result['token_weth_error_simplified'] = (df_result['token_weth_balance_simplified']-df_result['token_weth_balance_reference'])/df_result['token_weth_balance_reference']\n",
    "df_result['token_dai_error_contract_call'] = (df_result['token_dai_balance_contract_call']-df_result['token_dai_balance_reference'])/df_result['token_dai_balance_reference']\n",
    "df_result['token_weth_error_contract_call'] = (df_result['token_weth_balance_contract_call']-df_result['token_weth_balance_reference'])/df_result['token_dai_balance_reference']\n",
    "\n",
    "\n",
    "df_result = df_result.reset_index()\n",
    "\n",
    "df_result\n"
   ]
  },
  {
   "cell_type": "code",
   "execution_count": null,
   "metadata": {},
   "outputs": [],
   "source": [
    "fig_diff_simplified_dai = px.scatter(p_df,x=df_result.index, y=df_result['token_dai_error_simplified'] )\n",
    "fig_diff_simplified_dai.show()\n"
   ]
  },
  {
   "cell_type": "code",
   "execution_count": null,
   "metadata": {},
   "outputs": [],
   "source": [
    "fig_diff_simplified_weth = px.scatter(p_df,x=df_result.index, y=df_result['token_dai_error_contract_call'])\n",
    "fig_diff_simplified_weth.show()\n"
   ]
  },
  {
   "cell_type": "code",
   "execution_count": null,
   "metadata": {},
   "outputs": [],
   "source": [
    "fig_diff_simplified_weth = px.scatter(p_df,x=df_result.index, y=df_result['token_weth_error_simplified'])\n",
    "fig_diff_simplified_weth.show()\n"
   ]
  },
  {
   "cell_type": "code",
   "execution_count": null,
   "metadata": {},
   "outputs": [],
   "source": [
    "fig_diff_simplified_weth = px.scatter(p_df,x=df_result.index, y=df_result['token_weth_error_contract_call'])\n",
    "fig_diff_simplified_weth.show()\n"
   ]
  },
  {
   "cell_type": "markdown",
   "metadata": {},
   "source": [
    "# E. System Validation and Limitations\n",
    "\n",
    "(XX check all and add!)\n",
    "\n",
    "- move to Gitbook!\n",
    "- document the steps taken to validate if the model reflects real Balancer AMM properly (Did we build the right model?)\n",
    "- document the steps taken to verify if the model creates reliable results (Did we build the model right?)\n",
    "\n",
    "### Notes (Draft!)\n",
    "**a) BMath Calculations:**  \n",
    "Our goal is to implement the BMath calculations in this Python model in a way that it replicates *exactly* the calculation results in an EVM.\n",
    "\n",
    "We've verified the model with a series of tests:\n",
    "- create tests using balancer's smart contract repos\n",
    "- generate a pool contract in a local EVM, do a swap or whatever operation, \n",
    "- put those input outputs as a test in python, port the code, test to see if the results match\n",
    "\n",
    "**b) external USD price feed** \n",
    "- in this simulation we're using historical USD prices from xxx (source)  \n",
    "- to map blocks and transactions we've ... (how we parsed USD price feed)\n",
    "\n",
    "**c) Our simulation does not include:**  \n",
    "- gas prices or add_fees when adding liquidity  \n",
    "- \n",
    "\n",
    "**Results: (summarize)**\n",
    "\n",
    "(Notes for ourselves:\n",
    "- assertAlmostEqual takes 7 decimal places for comparision, sometimes we had to set 5 decimal places for the test to pass\n",
    "- we could publish the EVM tests  as companion in the docs later but right now is very rough code\n",
    "- to run the test go to your virtual env, instlal requirements with pip, then run pytest\n",
    "- they should pass\n",
    "- when everything is tested and works as the contracts, we could move on to cadCAD stuff\n",
    "\n",
    "According to Balancer.finance documentation \"The formulas are sufficient to describe the functional specification, but they are not straightforward to implement for the EVM, in part due to a lack of mature fixed-point math libraries.\" (https://docs.balancer.finance/core-concepts/protocol/index))"
   ]
  },
  {
   "cell_type": "code",
   "execution_count": null,
   "metadata": {},
   "outputs": [],
   "source": []
  },
  {
   "cell_type": "code",
   "execution_count": null,
   "metadata": {},
   "outputs": [],
   "source": []
  },
  {
   "cell_type": "code",
   "execution_count": null,
   "metadata": {},
   "outputs": [],
   "source": []
  },
  {
   "cell_type": "markdown",
   "metadata": {},
   "source": [
    "# F. Comments\n",
    "\n",
    "closing comments if appropriate, and links to other notebooks/other use cases"
   ]
  }
 ],
 "metadata": {
  "kernelspec": {
   "display_name": "Python 3",
   "language": "python",
   "name": "python3"
  },
  "language_info": {
   "codemirror_mode": {
    "name": "ipython",
    "version": 3
   },
   "file_extension": ".py",
   "mimetype": "text/x-python",
   "name": "python",
   "nbconvert_exporter": "python",
   "pygments_lexer": "ipython3",
   "version": "3.8.5"
  }
 },
 "nbformat": 4,
 "nbformat_minor": 4
}
