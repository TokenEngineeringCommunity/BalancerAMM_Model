{
 "cells": [
  {
   "cell_type": "markdown",
   "metadata": {},
   "source": [
    "# Balancer AMM Token Pool Model & Simulations\n",
    "\n",
    "# The LP package - this is a test change!!!\n",
    "\n",
    "Introduction on the context and motivation to build and open-source this model (perhaps could go below to further links)\n",
    "\n",
    "This is a model and set of simulations to analyse Balancer AMM pools from a liquidity provider point of view,  \n",
    "using **historical on-chain data**.\n",
    "\n",
    "You'll be able to analyse **pool share value** in the following scenarios:  \n",
    "- C1 Analyse **pool share value over time** (incl. Impermanent Loss)  \n",
    "- C2 Analyse pool share value **when add** (incl. slippage)\n",
    "- C3 Analyse pool share value **when exit** (incl. slippage)"
   ]
  },
  {
   "cell_type": "markdown",
   "metadata": {},
   "source": [
    "## Table of content\n",
    "here List and links to content (automatically?)"
   ]
  },
  {
   "cell_type": "markdown",
   "metadata": {},
   "source": [
    "# A. System Context"
   ]
  },
  {
   "cell_type": "markdown",
   "metadata": {},
   "source": [
    "### Value Drivers & Key Variables\n",
    "Differential Syntax Diagram goes here"
   ]
  },
  {
   "cell_type": "markdown",
   "metadata": {},
   "source": [
    "## Naming Convention\n",
    "\n",
    "insert table, latest version according to\n",
    "https://docs.google.com/document/d/1asyGzZNVDTnsJ3CdEh3Vpv-buRXCJ8yVgNsNMyxMs8E/edit\n",
    "\n"
   ]
  },
  {
   "cell_type": "markdown",
   "metadata": {},
   "source": [
    "## List of State Variables  "
   ]
  },
  {
   "cell_type": "markdown",
   "metadata": {},
   "source": [
    "token_a_balance  \n",
    "token_b_balance  \n",
    "token_c_balance  \n",
    "token_d_balance  \n",
    "token_e_balance  \n",
    "token_f_balance  \n",
    "token_g_balance  \n",
    "token_h_balance  "
   ]
  },
  {
   "cell_type": "markdown",
   "metadata": {},
   "source": [
    "## List of Parameters"
   ]
  },
  {
   "cell_type": "code",
   "execution_count": null,
   "metadata": {},
   "outputs": [],
   "source": [
    "#to be added"
   ]
  },
  {
   "cell_type": "markdown",
   "metadata": {},
   "source": [
    "### System Mapping (Differential spec here? Or in later specifying simulations)\n",
    "Show the (digital twin!) system in a viz language like\n",
    "- Conceptual model\n",
    "- Causal Loop\n",
    "- Stock & Flow\n",
    "...or several of them, tbd"
   ]
  },
  {
   "cell_type": "markdown",
   "metadata": {},
   "source": [
    "### Mathematical Specification (Policy here? Or in later specifying simulations)\n",
    "shows the Balancer AMM math (or provides a link),\n",
    "add some more context, particularly\n",
    "- what function is used where (reference to What-if-Matrix, perhaps add eg. \"Spotprice\" to What-if-Matrix) this reference of Math > Simulation would be ideal"
   ]
  },
  {
   "cell_type": "markdown",
   "metadata": {},
   "source": [
    "### System Design (see above)\n",
    "Show the (digital twin!) system in\n",
    "- Differential Spec Syntax"
   ]
  },
  {
   "cell_type": "markdown",
   "metadata": {},
   "source": [
    "# B. cadCAD Notebook"
   ]
  },
  {
   "cell_type": "markdown",
   "metadata": {},
   "source": [
    "### 0. Dependencies\n",
    "optionally add context to code below, and link \"requirements.txt\" "
   ]
  },
  {
   "cell_type": "code",
   "execution_count": 2,
   "metadata": {},
   "outputs": [],
   "source": [
    "import pandas as pd \n",
    "# import numpy as np\n",
    "# random\n",
    "# plotly\n",
    "# cadCAD\n",
    "# others..."
   ]
  },
  {
   "cell_type": "markdown",
   "metadata": {},
   "source": [
    "# C. Simulate: \n",
    "# Change of LP pool share value over time"
   ]
  },
  {
   "cell_type": "code",
   "execution_count": null,
   "metadata": {},
   "outputs": [],
   "source": []
  },
  {
   "cell_type": "markdown",
   "metadata": {},
   "source": [
    "### C1.1 Scenario\n",
    "\n",
    "This simulation allows you to analyse the change of a liquidity provider’s pool share value over time.  \n",
    "You can run various scenarios  \n",
    "a) step into the shoes of a specific liquidity provider (should be the first transaction in your data set) and simulate your returns, potential losses or optimization strategies “what if I were this person” (100% overlap with on-chain data)  \n",
    "b) define a new liquidity add (make artificial “JOIN” event, which didn’t exist in on-chain), and simulate your returns, potential losses or optimization strategies (based on on-chain transactions, deviations according to your liquidity add)  "
   ]
  },
  {
   "cell_type": "markdown",
   "metadata": {},
   "source": [
    "### C1.2 State Variables\n"
   ]
  },
  {
   "cell_type": "markdown",
   "metadata": {},
   "source": [
    "Define token symbol for better readability:"
   ]
  },
  {
   "cell_type": "code",
   "execution_count": null,
   "metadata": {},
   "outputs": [],
   "source": [
    "#code to assign token symbol to transaction data (token smart contracts) "
   ]
  },
  {
   "cell_type": "markdown",
   "metadata": {},
   "source": [
    "Pull initial balances from data: (how to data parse in readme.file in data folder)"
   ]
  },
  {
   "cell_type": "code",
   "execution_count": null,
   "metadata": {},
   "outputs": [],
   "source": [
    "# Date/block timestampStart\n",
    "# Date/block timestampStop\n",
    "\n",
    "# token A symbol\n",
    "# token A initial_balance\n",
    "\n",
    "# token B symbol\n",
    "# token B initial_balance\n",
    "...\n",
    "# token PoolToken symbol\n",
    "# token PoolToken initial_balance"
   ]
  },
  {
   "cell_type": "code",
   "execution_count": null,
   "metadata": {},
   "outputs": [],
   "source": []
  },
  {
   "cell_type": "markdown",
   "metadata": {},
   "source": [
    "### C1.3 System Parameters\n",
    "(provides an overview on all parameters)\n",
    "\n",
    "The system parameters we need to **define** for simulating this use case are:\n",
    "- parameter description in human langage / parameter (code) / with value (code)\n",
    "\n",
    "The following system parameters will be **swept** in the simulation:\n",
    "- parameter description in human language / parameter (code) / values to sweep (code)\n",
    "\n"
   ]
  },
  {
   "cell_type": "code",
   "execution_count": null,
   "metadata": {},
   "outputs": [],
   "source": [
    "# code to define parameters"
   ]
  },
  {
   "cell_type": "markdown",
   "metadata": {},
   "source": [
    "### C1.4 State Update Functions"
   ]
  },
  {
   "cell_type": "code",
   "execution_count": null,
   "metadata": {},
   "outputs": [],
   "source": []
  },
  {
   "cell_type": "code",
   "execution_count": null,
   "metadata": {},
   "outputs": [],
   "source": [
    "# BMath"
   ]
  },
  {
   "cell_type": "markdown",
   "metadata": {},
   "source": [
    "### C1.5 Partial State Update Blocks"
   ]
  },
  {
   "cell_type": "code",
   "execution_count": null,
   "metadata": {},
   "outputs": [],
   "source": []
  },
  {
   "cell_type": "code",
   "execution_count": null,
   "metadata": {},
   "outputs": [],
   "source": [
    "# code"
   ]
  },
  {
   "cell_type": "markdown",
   "metadata": {},
   "source": [
    "### C1.6 Configuration"
   ]
  },
  {
   "cell_type": "code",
   "execution_count": null,
   "metadata": {},
   "outputs": [],
   "source": [
    "# simulation timesteps\n",
    "# monte carlo / parameter sweeps etc."
   ]
  },
  {
   "cell_type": "markdown",
   "metadata": {},
   "source": [
    "### C1.7 Execution"
   ]
  },
  {
   "cell_type": "code",
   "execution_count": 2,
   "metadata": {},
   "outputs": [],
   "source": [
    "# exec_..."
   ]
  },
  {
   "cell_type": "markdown",
   "metadata": {},
   "source": [
    "### C1.8 Simulation Output Preparation"
   ]
  },
  {
   "cell_type": "code",
   "execution_count": null,
   "metadata": {},
   "outputs": [],
   "source": [
    "# any code required to make results more readable, clean substeps etc."
   ]
  },
  {
   "cell_type": "markdown",
   "metadata": {},
   "source": [
    "### C1.9 Simulation Outcome & Conclusion\n",
    "\n",
    "notes on the diagram:  \n",
    "\n",
    "general information design\n",
    "- all blue lines = USD values\n",
    "- all yellow lines = number of tokens  \n",
    "and chart:\n",
    "\n",
    "\n",
    "and conclusions:"
   ]
  },
  {
   "cell_type": "code",
   "execution_count": null,
   "metadata": {},
   "outputs": [],
   "source": []
  },
  {
   "cell_type": "code",
   "execution_count": 3,
   "metadata": {},
   "outputs": [
    {
     "name": "stdout",
     "output_type": "stream",
     "text": [
      "   blockno  total_token_value  total_pool_balance\n",
      "0       50               1500                 6.1\n",
      "1       51               1520                 5.8\n",
      "2       52               1525                 5.7\n",
      "3       53               1523                 5.7\n",
      "4       54               1515                 5.8\n",
      "5       55               1540                 5.6\n",
      "6       56               1545                 5.5\n",
      "7       57               1560                 5.3\n",
      "8       58               1555                 5.2\n",
      "9       59               1565                 5.2\n"
     ]
    }
   ],
   "source": [
    "# dummy data dictionary\n",
    "data = {'total_pool_balance': [6.1,5.8,5.7,5.7,5.8,5.6,5.5,5.3,5.2,5.2],\n",
    "        'total_token_value': [1500,1520,1525,1523,1515,1540,1545,1560,1555,1565], 'blockno': [50, 51, 52, 53, 54, 55, 56, 57, 58, 59]\n",
    "       }\n",
    "\n",
    "# create data frame (here from dictionary)\n",
    "simresult = pd.DataFrame(data,columns=['blockno', 'total_token_value','total_pool_balance'])\n",
    "\n",
    "#print table (just to check)\n",
    "print (simresult)"
   ]
  },
  {
   "cell_type": "code",
   "execution_count": 4,
   "metadata": {},
   "outputs": [
    {
     "data": {
      "text/plain": [
       "<AxesSubplot:xlabel='blockno'>"
      ]
     },
     "execution_count": 4,
     "metadata": {},
     "output_type": "execute_result"
    },
    {
     "data": {
      "image/png": "[encoded data removed]",
      "text/plain": [
       "<Figure size 432x288 with 1 Axes>"
      ]
     },
     "metadata": {
      "needs_background": "light"
     },
     "output_type": "display_data"
    }
   ],
   "source": [
    "#plot chart\n",
    "simresult.plot(x ='blockno', y='total_pool_balance', kind = 'line')\t"
   ]
  },
  {
   "cell_type": "markdown",
   "metadata": {},
   "source": [
    "-------------------------\n",
    "all further simulations C2 + C3 go here\n",
    "--------------"
   ]
  },
  {
   "cell_type": "markdown",
   "metadata": {},
   "source": [
    "# System Validation and Limitations\n",
    "\n",
    "- document the steps taken to validate if the model reflects real Balancer AMM properly (Did we build the right model?)\n",
    "- document the steps taken to verify if the model creates reliable results (Did we build the model right?)\n",
    "\n",
    "### Notes (Draft!)\n",
    "**a) BMath Calculations:**  \n",
    "Our goal is to implement the BMath calculations in this Python model in a way that it replicates *exactly* the calculation results in an EVM.\n",
    "\n",
    "We've verified the model with a series of tests:\n",
    "- create tests using balancer's smart contract repos\n",
    "- generate a pool contract in a local EVM, do a swap or whatever operation, \n",
    "- put those input outputs as a test in python, port the code, test to see if the results match\n",
    "\n",
    "**b) external USD price feed** \n",
    "- in this simulation we're using historical USD prices from xxx (source)  \n",
    "- to map blocks and transactions we've ... (how we parsed USD price feed)\n",
    "\n",
    "**c) Our simulation does not include:**  \n",
    "- gas prices or add_fees when adding liquidity  \n",
    "- \n",
    "\n",
    "**Results: (summarize)**\n",
    "\n",
    "(Notes for ourselves:\n",
    "- assertAlmostEqual takes 7 decimal places for comparision, sometimes we had to set 5 decimal places for the test to pass\n",
    "- we could publish the EVM tests  as companion in the docs later but right now is very rough code\n",
    "- to run the test go to your virtual env, instlal requirements with pip, then run pytest\n",
    "- they should pass\n",
    "- when everything is tested and works as the contracts, we could move on to cadCAD stuff\n",
    "\n",
    "According to Balancer.finance documentation \"The formulas are sufficient to describe the functional specification, but they are not straightforward to implement for the EVM, in part due to a lack of mature fixed-point math libraries.\" (https://docs.balancer.finance/core-concepts/protocol/index))"
   ]
  },
  {
   "cell_type": "markdown",
   "metadata": {},
   "source": [
    "# E. Comments\n",
    "\n",
    "closing comments if appropriate, and links to other notebooks/other use cases"
   ]
  }
 ],
 "metadata": {
  "kernelspec": {
   "display_name": "Python 3",
   "language": "python",
   "name": "python3"
  },
  "language_info": {
   "codemirror_mode": {
    "name": "ipython",
    "version": 3
   },
   "file_extension": ".py",
   "mimetype": "text/x-python",
   "name": "python",
   "nbconvert_exporter": "python",
   "pygments_lexer": "ipython3",
   "version": "3.8.5"
  }
 },
 "nbformat": 4,
 "nbformat_minor": 4
}
