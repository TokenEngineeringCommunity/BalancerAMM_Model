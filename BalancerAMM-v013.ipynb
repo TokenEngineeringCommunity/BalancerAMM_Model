{
 "cells": [
  {
   "cell_type": "markdown",
   "metadata": {},
   "source": [
    "# Balancer Simulations\n",
    "\n",
    "# The LP package\n",
    "\n",
    "This is a model and set of simulations to analyse Balancer AMM pools from a liquidity provider point of view,  \n",
    "using **historical on-chain data**.\n",
    "\n",
    "You'll be able to analyse **pool share value** in the following scenarios:  \n",
    "- C1 Analyse **pool share value over time** (incl. Impermanent Loss)  \n",
    "- C2 Analyse pool share value **when add** (incl. slippage)\n",
    "- C3 Analyse pool share value **when exit** (incl. slippage)\n",
    "\n",
    "For more information on available packages, checkout the [Balancer Simulations documentation](xxxadd link)."
   ]
  },
  {
   "cell_type": "markdown",
   "metadata": {},
   "source": [
    "## Table of content\n",
    "here List and links to content (automatically?)"
   ]
  },
  {
   "cell_type": "markdown",
   "metadata": {},
   "source": [
    "# A. System Context"
   ]
  },
  {
   "cell_type": "markdown",
   "metadata": {},
   "source": [
    "### System Specification\n",
    "- Differential Syntax Diagram\n",
    "- Link to Mathematical Specification\n",
    "- Link to Software Archtitecture"
   ]
  },
  {
   "cell_type": "markdown",
   "metadata": {},
   "source": [
    "### Naming Convention\n",
    "\n",
    "All code provided for this package is following a specific naming convention. You'll find and overview in the documentation. (xxx add link)\n"
   ]
  },
  {
   "cell_type": "markdown",
   "metadata": {},
   "source": [
    "### State Variables  \n"
   ]
  },
  {
   "cell_type": "code",
   "execution_count": null,
   "metadata": {},
   "outputs": [],
   "source": [
    "from pprint import pprint as pp\n",
    "from model.genesis_states import initial_values\n",
    "pp(initial_values)"
   ]
  },
  {
   "cell_type": "markdown",
   "metadata": {},
   "source": [
    "### Parameters"
   ]
  },
  {
   "cell_type": "code",
   "execution_count": null,
   "metadata": {},
   "outputs": [],
   "source": [
    "from decimal import Decimal\n",
    "parameters = {\n",
    "    'spot_price_reference': ['DAI']\n",
    "}\n",
    "pp(parameters)"
   ]
  },
  {
   "cell_type": "markdown",
   "metadata": {},
   "source": [
    "# B. cadCAD Notebook"
   ]
  },
  {
   "cell_type": "markdown",
   "metadata": {},
   "source": [
    "### B1.0 Dependencies\n",
    "- check dependencies, and link \"requirements.txt\" "
   ]
  },
  {
   "cell_type": "code",
   "execution_count": null,
   "metadata": {},
   "outputs": [],
   "source": [
    "import pandas as pd \n",
    "from cadCAD.configuration.utils import config_sim"
   ]
  },
  {
   "cell_type": "markdown",
   "metadata": {},
   "source": [
    "# C. Run Simulations "
   ]
  },
  {
   "cell_type": "markdown",
   "metadata": {},
   "source": [
    "### C1.0 Initialize Pools\n"
   ]
  },
  {
   "cell_type": "markdown",
   "metadata": {},
   "source": [
    "Pull initial balances from data: (how to data parse in readme.file in data folder)"
   ]
  },
  {
   "cell_type": "code",
   "execution_count": null,
   "metadata": {},
   "outputs": [],
   "source": [
    "# Date/block timestampStart\n",
    "# Date/block timestampStop\n",
    "\n",
    "import pprint\n",
    "from model.genesis_states import initial_values\n",
    "pp = pprint.PrettyPrinter(indent=4)\n",
    "\n",
    "print('## State Variables')\n",
    "print('# Pool')\n",
    "gen_values = initial_values\n",
    "pool = gen_values['pool']\n",
    "pp.pprint(pool)\n",
    "print('# External token values feeds')\n",
    "token_prices = gen_values['token_prices']\n",
    "pp.pprint(token_prices)\n",
    "\n",
    "print('# Action Type')\n",
    "action_type = gen_values['action_type']\n",
    "pp.pprint(action_type)\n"
   ]
  },
  {
   "cell_type": "markdown",
   "metadata": {},
   "source": [
    "### C1.1 State Update Functions & Policies\n",
    "The available state update functions replicate the following Balancer Pool Transactions:\n",
    "\n",
    "a) Add Liquidity\n",
    "= join policy \n",
    "- `p_join_pool`\n",
    "- `p_join_swap_extern_amount_in`\n",
    "\n",
    "b) Withdraw Liquidity\n",
    "= exit policy \n",
    "- `p_exit_swap_extern_amount_out`\n",
    "\n",
    "b) Swap\n",
    "= swap policy \n",
    "- `p_swap_exact_amount_in`\n",
    "\n",
    "See 'system_policies.py'.  \n",
    "For a detailed description of the transactions, please visit (Gitbook link)"
   ]
  },
  {
   "cell_type": "markdown",
   "metadata": {},
   "source": [
    "### C1.2 Partial State Update Blocks\n",
    "\n",
    "\n",
    "1. Parse action and update pool\n",
    "2. Update external prices\n",
    "3. Calculate metrics\n",
    "\n",
    "The BPool smart contract logic is split in 2, the state update blocks 1 (apply BMath to update pool state) and 3 (use BMath to `get_spot_price` of the tokens after the trades, which is a system metric)\n",
    "\n",
    "\n",
    "\n",
    "Defined in [partial_state_update_block.py](./model/partial_state_update_block.py)"
   ]
  },
  {
   "cell_type": "code",
   "execution_count": null,
   "metadata": {},
   "outputs": [],
   "source": [
    "from model.partial_state_update_block import generate_partial_state_update_blocks\n",
    "\n",
    "result = generate_partial_state_update_blocks('model/parts/actions_prices-WETH-DAI-0x8b6e6e7b5b3801fed2cafd4b22b8a16c2f2db21a.json')\n",
    "partial_state_update_blocks = result['partial_state_update_blocks']\n",
    "pp.pprint(partial_state_update_blocks)"
   ]
  },
  {
   "cell_type": "markdown",
   "metadata": {},
   "source": [
    "### C1.3 Configuration\n",
    "\n",
    "\n"
   ]
  },
  {
   "cell_type": "code",
   "execution_count": null,
   "metadata": {},
   "outputs": [],
   "source": [
    "steps_number = result['steps_number']\n",
    "print('# Steps ', steps_number)\n",
    "sim_config = config_sim(\n",
    "    {\n",
    "        'N': 1,  # number of monte carlo runs\n",
    "        'T': range(steps_number - 1),  # number of timesteps - 1267203 is last action timestep (timestamp - initial timestamp)\n",
    "        'M': parameters,  # simulation parameters\n",
    "    }\n",
    ")"
   ]
  },
  {
   "cell_type": "markdown",
   "metadata": {},
   "source": [
    "### C1.4 Execution"
   ]
  },
  {
   "cell_type": "code",
   "execution_count": null,
   "metadata": {
    "scrolled": true
   },
   "outputs": [],
   "source": [
    "from model.genesis_states import initial_values\n",
    "\n",
    "from model.sim_runner import *\n",
    "\n",
    "df = run(initial_values, partial_state_update_blocks, sim_config)\n"
   ]
  },
  {
   "cell_type": "markdown",
   "metadata": {},
   "source": [
    "### C1.5 Simulation Output Preparation"
   ]
  },
  {
   "cell_type": "code",
   "execution_count": null,
   "metadata": {
    "scrolled": true
   },
   "outputs": [],
   "source": [
    "from model.parts.utils import post_processing\n",
    "\n",
    "p_df = post_processing(df)\n",
    "p_df"
   ]
  },
  {
   "cell_type": "markdown",
   "metadata": {},
   "source": [
    "### Observe liquidity & token balances over time"
   ]
  },
  {
   "cell_type": "markdown",
   "metadata": {},
   "source": [
    "### Missing: TVL (see issue #45)"
   ]
  },
  {
   "cell_type": "code",
   "execution_count": null,
   "metadata": {},
   "outputs": [],
   "source": []
  },
  {
   "cell_type": "markdown",
   "metadata": {},
   "source": [
    "### Pool Shares"
   ]
  },
  {
   "cell_type": "code",
   "execution_count": null,
   "metadata": {},
   "outputs": [],
   "source": [
    "pd.options.plotting.backend = \"plotly\"\n",
    "\n",
    "#Show pool_shares\n",
    "p_df.plot(kind='line', x='timestep', y=['pool_shares'],color_discrete_sequence=['#5CB1EC'],)\n"
   ]
  },
  {
   "cell_type": "markdown",
   "metadata": {},
   "source": [
    "### Missing: fees collected (to show growth of balances due to swap fees)"
   ]
  },
  {
   "cell_type": "code",
   "execution_count": null,
   "metadata": {},
   "outputs": [],
   "source": []
  },
  {
   "cell_type": "markdown",
   "metadata": {},
   "source": [
    "### Token Balances"
   ]
  },
  {
   "cell_type": "code",
   "execution_count": null,
   "metadata": {},
   "outputs": [],
   "source": [
    "import plotly.express as px\n",
    "\n",
    "fig1 = px.line(p_df, x='timestep', y='token_weth_balance',height=400, color_discrete_sequence=['#3C7E6F'])\n",
    "fig2 = px.line(p_df, x='timestep', y='token_dai_balance',height=400, color_discrete_sequence=['#5CB1EC'])\n",
    "fig1.show()\n",
    "fig2.show()"
   ]
  },
  {
   "cell_type": "markdown",
   "metadata": {},
   "source": [
    "### Transcaction Types\n",
    "\n",
    "- Analyse action_type in pool\n",
    "- impact action type on balance"
   ]
  },
  {
   "cell_type": "code",
   "execution_count": null,
   "metadata": {
    "scrolled": true
   },
   "outputs": [],
   "source": [
    "fig = px.scatter(p_df, x='timestep', y='token_weth_balance', color='action_type')\n",
    "fig.update_xaxes(rangeslider_visible=True)\n",
    "fig.show()"
   ]
  },
  {
   "cell_type": "markdown",
   "metadata": {},
   "source": [
    "# E. System Validation and Limitations\n",
    "\n",
    "- move to Gitbook!\n",
    "- document the steps taken to validate if the model reflects real Balancer AMM properly (Did we build the right model?)\n",
    "- document the steps taken to verify if the model creates reliable results (Did we build the model right?)\n",
    "\n",
    "### Notes (Draft!)\n",
    "**a) BMath Calculations:**  \n",
    "Our goal is to implement the BMath calculations in this Python model in a way that it replicates *exactly* the calculation results in an EVM.\n",
    "\n",
    "We've verified the model with a series of tests:\n",
    "- create tests using balancer's smart contract repos\n",
    "- generate a pool contract in a local EVM, do a swap or whatever operation, \n",
    "- put those input outputs as a test in python, port the code, test to see if the results match\n",
    "\n",
    "**b) external USD price feed** \n",
    "- in this simulation we're using historical USD prices from xxx (source)  \n",
    "- to map blocks and transactions we've ... (how we parsed USD price feed)\n",
    "\n",
    "**c) Our simulation does not include:**  \n",
    "- gas prices or add_fees when adding liquidity  \n",
    "- \n",
    "\n",
    "**Results: (summarize)**\n",
    "\n",
    "(Notes for ourselves:\n",
    "- assertAlmostEqual takes 7 decimal places for comparision, sometimes we had to set 5 decimal places for the test to pass\n",
    "- we could publish the EVM tests  as companion in the docs later but right now is very rough code\n",
    "- to run the test go to your virtual env, instlal requirements with pip, then run pytest\n",
    "- they should pass\n",
    "- when everything is tested and works as the contracts, we could move on to cadCAD stuff\n",
    "\n",
    "According to Balancer.finance documentation \"The formulas are sufficient to describe the functional specification, but they are not straightforward to implement for the EVM, in part due to a lack of mature fixed-point math libraries.\" (https://docs.balancer.finance/core-concepts/protocol/index))"
   ]
  },
  {
   "cell_type": "markdown",
   "metadata": {},
   "source": [
    "# F. Comments\n",
    "\n",
    "closing comments if appropriate, and links to other notebooks/other use cases"
   ]
  }
 ],
 "metadata": {
  "kernelspec": {
   "display_name": "Python 3",
   "language": "python",
   "name": "python3"
  },
  "language_info": {
   "codemirror_mode": {
    "name": "ipython",
    "version": 3
   },
   "file_extension": ".py",
   "mimetype": "text/x-python",
   "name": "python",
   "nbconvert_exporter": "python",
   "pygments_lexer": "ipython3",
   "version": "3.9.1"
  }
 },
 "nbformat": 4,
 "nbformat_minor": 4
}
